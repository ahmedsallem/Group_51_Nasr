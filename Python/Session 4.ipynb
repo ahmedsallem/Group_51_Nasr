{
 "cells": [
  {
   "cell_type": "code",
   "execution_count": 4,
   "id": "d55db3be",
   "metadata": {},
   "outputs": [
    {
     "data": {
      "text/plain": [
       "{'G': 2, 'O': 2, 'L': 1, 'E': 1}"
      ]
     },
     "execution_count": 4,
     "metadata": {},
     "output_type": "execute_result"
    }
   ],
   "source": [
    "s = \"Google\"\n",
    "d = {}\n",
    "for i in s.upper() :\n",
    "    if i in d:\n",
    "        d[i] += 1\n",
    "    else:\n",
    "        d[i] = 1 \n",
    "d"
   ]
  },
  {
   "cell_type": "code",
   "execution_count": 8,
   "id": "3622f505",
   "metadata": {},
   "outputs": [
    {
     "name": "stdout",
     "output_type": "stream",
     "text": [
      "enter the word ahmed\n",
      "first two char ah and last two char ed\n"
     ]
    }
   ],
   "source": [
    "s = input(\"enter the word \")\n",
    "def split_word(word):\n",
    "    if len(word) <=3:\n",
    "        print(word)\n",
    "    else:\n",
    "        print(f\"first two char {word[0:2]} and last two char {word[-2:]}\")\n",
    "split_word(s)"
   ]
  },
  {
   "cell_type": "code",
   "execution_count": 26,
   "id": "81f87d54",
   "metadata": {},
   "outputs": [],
   "source": [
    "class Dog:\n",
    "    counter = 0 \n",
    "    def __init__(self , name , age):\n",
    "        self.namee = name\n",
    "        self.agee  = age\n",
    "        Dog.counter += 1 \n",
    "        \n",
    "    def show(self):\n",
    "        print(\"dog name is \", self.namee , \" age is \",self.agee)\n",
    "    \n",
    "    @classmethod\n",
    "    def num_dog(cls):\n",
    "        print(\"number of dogs is \",cls.counter)\n",
    "    "
   ]
  },
  {
   "cell_type": "code",
   "execution_count": 27,
   "id": "8335cb67",
   "metadata": {},
   "outputs": [],
   "source": [
    "d1 = Dog(\"d1\" , 2)\n",
    "d2 = Dog(\"d2\" , 3)\n",
    "d3 = Dog(\"d3\" , 4)"
   ]
  },
  {
   "cell_type": "code",
   "execution_count": 28,
   "id": "e117be3a",
   "metadata": {},
   "outputs": [
    {
     "name": "stdout",
     "output_type": "stream",
     "text": [
      "number of dogs is  3\n"
     ]
    }
   ],
   "source": [
    " Dog.num_dog()"
   ]
  },
  {
   "cell_type": "code",
   "execution_count": 29,
   "id": "c10c4be0",
   "metadata": {},
   "outputs": [
    {
     "name": "stdout",
     "output_type": "stream",
     "text": [
      "number of dogs is  3\n"
     ]
    }
   ],
   "source": [
    " d1.num_dog()"
   ]
  },
  {
   "cell_type": "code",
   "execution_count": 50,
   "id": "6e9253db",
   "metadata": {},
   "outputs": [],
   "source": [
    "class Cars:\n",
    "    def __init__(self , name , color , speed):\n",
    "        self.__name = name\n",
    "        self.__color = color\n",
    "        self.__speed = speed\n",
    "    def show(self):\n",
    "        print(f\"the car name is {self.__name} & color is {self.__color} and speed is {self.__speed}  \")\n",
    "    @staticmethod\n",
    "    def time(speed , distance):\n",
    "        print(f\"the time for speed: {speed} and distance: {distance} is {distance/speed} \")"
   ]
  },
  {
   "cell_type": "code",
   "execution_count": 51,
   "id": "d88b913a",
   "metadata": {},
   "outputs": [],
   "source": [
    "BMW = Cars(\"BMW\" , \"red\" , 250)"
   ]
  },
  {
   "cell_type": "code",
   "execution_count": 52,
   "id": "51d25a91",
   "metadata": {},
   "outputs": [
    {
     "name": "stdout",
     "output_type": "stream",
     "text": [
      "the car name is BMW & color is red and speed is 250  \n"
     ]
    }
   ],
   "source": [
    "BMW.show()"
   ]
  },
  {
   "cell_type": "code",
   "execution_count": 53,
   "id": "224de88a",
   "metadata": {},
   "outputs": [
    {
     "name": "stdout",
     "output_type": "stream",
     "text": [
      "the time for speed: 250 and distance: 1000 is 4.0 \n"
     ]
    }
   ],
   "source": [
    "BMW.time(250,1000)"
   ]
  },
  {
   "cell_type": "code",
   "execution_count": 56,
   "id": "acc91bf0",
   "metadata": {},
   "outputs": [],
   "source": [
    "BMW.speed = 10"
   ]
  },
  {
   "cell_type": "code",
   "execution_count": 57,
   "id": "3d10ea1f",
   "metadata": {},
   "outputs": [
    {
     "name": "stdout",
     "output_type": "stream",
     "text": [
      "the car name is BMW & color is red and speed is 250  \n"
     ]
    }
   ],
   "source": [
    "BMW.show()"
   ]
  },
  {
   "cell_type": "code",
   "execution_count": 58,
   "id": "7e3a610c",
   "metadata": {},
   "outputs": [
    {
     "data": {
      "text/plain": [
       "10"
      ]
     },
     "execution_count": 58,
     "metadata": {},
     "output_type": "execute_result"
    }
   ],
   "source": [
    "BMW.speed"
   ]
  },
  {
   "cell_type": "code",
   "execution_count": 61,
   "id": "5e260b6f",
   "metadata": {},
   "outputs": [],
   "source": [
    "class Animal:\n",
    "    def __init__(self , name , age):\n",
    "        self.name = name\n",
    "        self.age = age\n",
    "    def eat(self , food):\n",
    "        print('%s is eating %s.  %s' %(self.name , food , self.age))\n",
    "class Dog(Animal):\n",
    "    def fetch(self , thing):\n",
    "        print('%s goes after the %s!' %(self.name , thing))\n",
    "class Cat(Animal):\n",
    "    def swatstring(self):\n",
    "        print('%s shreds the string!' %(self.name))\n"
   ]
  },
  {
   "cell_type": "code",
   "execution_count": 63,
   "id": "59628823",
   "metadata": {},
   "outputs": [
    {
     "name": "stdout",
     "output_type": "stream",
     "text": [
      "Ranger goes after the ball!\n",
      "MeOw shreds the string!\n",
      "Ranger is eating Dog.  23\n",
      "MeOw is eating Cat Food.  23\n"
     ]
    },
    {
     "ename": "AttributeError",
     "evalue": "'Dog' object has no attribute 'swatstring'",
     "output_type": "error",
     "traceback": [
      "\u001b[1;31m---------------------------------------------------------------------------\u001b[0m",
      "\u001b[1;31mAttributeError\u001b[0m                            Traceback (most recent call last)",
      "Cell \u001b[1;32mIn[63], line 9\u001b[0m\n\u001b[0;32m      7\u001b[0m d\u001b[38;5;241m.\u001b[39meat(\u001b[38;5;124m'\u001b[39m\u001b[38;5;124mDog\u001b[39m\u001b[38;5;124m'\u001b[39m)\n\u001b[0;32m      8\u001b[0m c\u001b[38;5;241m.\u001b[39meat(\u001b[38;5;124m'\u001b[39m\u001b[38;5;124mCat Food\u001b[39m\u001b[38;5;124m'\u001b[39m)\n\u001b[1;32m----> 9\u001b[0m \u001b[43md\u001b[49m\u001b[38;5;241;43m.\u001b[39;49m\u001b[43mswatstring\u001b[49m()\n",
      "\u001b[1;31mAttributeError\u001b[0m: 'Dog' object has no attribute 'swatstring'"
     ]
    }
   ],
   "source": [
    "# A = Animal('Animal')\n",
    "d = Dog('Ranger' , 23)\n",
    "c = Cat('MeOw' , 23)\n",
    "\n",
    "d.fetch('ball')\n",
    "c.swatstring()\n",
    "d.eat('Dog')\n",
    "c.eat('Cat Food')\n",
    "d.swatstring()"
   ]
  },
  {
   "cell_type": "code",
   "execution_count": null,
   "id": "d36a389a",
   "metadata": {},
   "outputs": [],
   "source": []
  }
 ],
 "metadata": {
  "kernelspec": {
   "display_name": "Python 3 (ipykernel)",
   "language": "python",
   "name": "python3"
  },
  "language_info": {
   "codemirror_mode": {
    "name": "ipython",
    "version": 3
   },
   "file_extension": ".py",
   "mimetype": "text/x-python",
   "name": "python",
   "nbconvert_exporter": "python",
   "pygments_lexer": "ipython3",
   "version": "3.10.9"
  }
 },
 "nbformat": 4,
 "nbformat_minor": 5
}
