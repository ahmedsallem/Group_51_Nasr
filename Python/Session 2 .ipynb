{
 "cells": [
  {
   "cell_type": "code",
   "execution_count": 1,
   "id": "c276215d",
   "metadata": {},
   "outputs": [],
   "source": [
    "x = 10 \n",
    "y = 3 "
   ]
  },
  {
   "cell_type": "code",
   "execution_count": 2,
   "id": "0798b929",
   "metadata": {},
   "outputs": [
    {
     "data": {
      "text/plain": [
       "13"
      ]
     },
     "execution_count": 2,
     "metadata": {},
     "output_type": "execute_result"
    }
   ],
   "source": [
    "x + y "
   ]
  },
  {
   "cell_type": "code",
   "execution_count": 3,
   "id": "cc8137ce",
   "metadata": {},
   "outputs": [
    {
     "data": {
      "text/plain": [
       "7"
      ]
     },
     "execution_count": 3,
     "metadata": {},
     "output_type": "execute_result"
    }
   ],
   "source": [
    "x - y "
   ]
  },
  {
   "cell_type": "code",
   "execution_count": 4,
   "id": "7bc15d3f",
   "metadata": {},
   "outputs": [
    {
     "data": {
      "text/plain": [
       "30"
      ]
     },
     "execution_count": 4,
     "metadata": {},
     "output_type": "execute_result"
    }
   ],
   "source": [
    "x * y "
   ]
  },
  {
   "cell_type": "code",
   "execution_count": 5,
   "id": "0bec391f",
   "metadata": {},
   "outputs": [
    {
     "data": {
      "text/plain": [
       "1000"
      ]
     },
     "execution_count": 5,
     "metadata": {},
     "output_type": "execute_result"
    }
   ],
   "source": [
    "x ** y "
   ]
  },
  {
   "cell_type": "code",
   "execution_count": 6,
   "id": "19668783",
   "metadata": {},
   "outputs": [
    {
     "data": {
      "text/plain": [
       "1000"
      ]
     },
     "execution_count": 6,
     "metadata": {},
     "output_type": "execute_result"
    }
   ],
   "source": [
    "pow(x,y )"
   ]
  },
  {
   "cell_type": "code",
   "execution_count": 7,
   "id": "2ba96f56",
   "metadata": {},
   "outputs": [
    {
     "data": {
      "text/plain": [
       "3.3333333333333335"
      ]
     },
     "execution_count": 7,
     "metadata": {},
     "output_type": "execute_result"
    }
   ],
   "source": [
    "x / y "
   ]
  },
  {
   "cell_type": "code",
   "execution_count": 8,
   "id": "d9a8bfba",
   "metadata": {},
   "outputs": [
    {
     "data": {
      "text/plain": [
       "3"
      ]
     },
     "execution_count": 8,
     "metadata": {},
     "output_type": "execute_result"
    }
   ],
   "source": [
    "x // y "
   ]
  },
  {
   "cell_type": "code",
   "execution_count": 9,
   "id": "1f93a7ca",
   "metadata": {},
   "outputs": [
    {
     "data": {
      "text/plain": [
       "1"
      ]
     },
     "execution_count": 9,
     "metadata": {},
     "output_type": "execute_result"
    }
   ],
   "source": [
    "x % y "
   ]
  },
  {
   "cell_type": "code",
   "execution_count": 10,
   "id": "5af5cc07",
   "metadata": {},
   "outputs": [],
   "source": [
    "x = 10\n",
    "y = 12"
   ]
  },
  {
   "cell_type": "code",
   "execution_count": 11,
   "id": "636290b5",
   "metadata": {},
   "outputs": [
    {
     "data": {
      "text/plain": [
       "False"
      ]
     },
     "execution_count": 11,
     "metadata": {},
     "output_type": "execute_result"
    }
   ],
   "source": [
    "x > y "
   ]
  },
  {
   "cell_type": "code",
   "execution_count": 12,
   "id": "70cb0795",
   "metadata": {},
   "outputs": [
    {
     "data": {
      "text/plain": [
       "True"
      ]
     },
     "execution_count": 12,
     "metadata": {},
     "output_type": "execute_result"
    }
   ],
   "source": [
    "x < y "
   ]
  },
  {
   "cell_type": "code",
   "execution_count": 13,
   "id": "09ab19c7",
   "metadata": {},
   "outputs": [
    {
     "data": {
      "text/plain": [
       "True"
      ]
     },
     "execution_count": 13,
     "metadata": {},
     "output_type": "execute_result"
    }
   ],
   "source": [
    "x != y "
   ]
  },
  {
   "cell_type": "code",
   "execution_count": 14,
   "id": "57f02094",
   "metadata": {},
   "outputs": [
    {
     "data": {
      "text/plain": [
       "False"
      ]
     },
     "execution_count": 14,
     "metadata": {},
     "output_type": "execute_result"
    }
   ],
   "source": [
    "x == y "
   ]
  },
  {
   "cell_type": "code",
   "execution_count": 15,
   "id": "1019da09",
   "metadata": {},
   "outputs": [
    {
     "data": {
      "text/plain": [
       "False"
      ]
     },
     "execution_count": 15,
     "metadata": {},
     "output_type": "execute_result"
    }
   ],
   "source": [
    "x >= y "
   ]
  },
  {
   "cell_type": "code",
   "execution_count": 16,
   "id": "dedbb909",
   "metadata": {},
   "outputs": [
    {
     "data": {
      "text/plain": [
       "True"
      ]
     },
     "execution_count": 16,
     "metadata": {},
     "output_type": "execute_result"
    }
   ],
   "source": [
    "x <= y "
   ]
  },
  {
   "cell_type": "code",
   "execution_count": 20,
   "id": "3b390a77",
   "metadata": {},
   "outputs": [],
   "source": [
    "x = True \n",
    "y = True "
   ]
  },
  {
   "cell_type": "code",
   "execution_count": 21,
   "id": "d9b51157",
   "metadata": {},
   "outputs": [
    {
     "data": {
      "text/plain": [
       "True"
      ]
     },
     "execution_count": 21,
     "metadata": {},
     "output_type": "execute_result"
    }
   ],
   "source": [
    "x and y "
   ]
  },
  {
   "cell_type": "code",
   "execution_count": 22,
   "id": "ff1fd4b2",
   "metadata": {},
   "outputs": [
    {
     "data": {
      "text/plain": [
       "True"
      ]
     },
     "execution_count": 22,
     "metadata": {},
     "output_type": "execute_result"
    }
   ],
   "source": [
    "x or y "
   ]
  },
  {
   "cell_type": "code",
   "execution_count": 23,
   "id": "28c5649d",
   "metadata": {},
   "outputs": [
    {
     "data": {
      "text/plain": [
       "False"
      ]
     },
     "execution_count": 23,
     "metadata": {},
     "output_type": "execute_result"
    }
   ],
   "source": [
    "x = True \n",
    "not x "
   ]
  },
  {
   "cell_type": "code",
   "execution_count": 24,
   "id": "4fa984d8",
   "metadata": {},
   "outputs": [],
   "source": [
    "x = 10 \n",
    "x = x + 1 \n",
    "x += 1 "
   ]
  },
  {
   "cell_type": "code",
   "execution_count": 25,
   "id": "50c4db30",
   "metadata": {},
   "outputs": [
    {
     "data": {
      "text/plain": [
       "12"
      ]
     },
     "execution_count": 25,
     "metadata": {},
     "output_type": "execute_result"
    }
   ],
   "source": [
    "x"
   ]
  },
  {
   "cell_type": "code",
   "execution_count": 31,
   "id": "92c9e6bf",
   "metadata": {},
   "outputs": [
    {
     "data": {
      "text/plain": [
       "True"
      ]
     },
     "execution_count": 31,
     "metadata": {},
     "output_type": "execute_result"
    }
   ],
   "source": [
    "s = \"amit\"\n",
    "\"s\" not in s "
   ]
  },
  {
   "cell_type": "code",
   "execution_count": 28,
   "id": "ea6361b3",
   "metadata": {},
   "outputs": [
    {
     "data": {
      "text/plain": [
       "False"
      ]
     },
     "execution_count": 28,
     "metadata": {},
     "output_type": "execute_result"
    }
   ],
   "source": [
    "x is y "
   ]
  },
  {
   "cell_type": "code",
   "execution_count": 30,
   "id": "40a65766",
   "metadata": {},
   "outputs": [
    {
     "data": {
      "text/plain": [
       "False"
      ]
     },
     "execution_count": 30,
     "metadata": {},
     "output_type": "execute_result"
    }
   ],
   "source": [
    "x = 10 \n",
    "y = 10 \n",
    "x is not  y "
   ]
  },
  {
   "cell_type": "code",
   "execution_count": 34,
   "id": "c3aa1ac2",
   "metadata": {},
   "outputs": [
    {
     "name": "stdout",
     "output_type": "stream",
     "text": [
      "x is > 10 \n"
     ]
    }
   ],
   "source": [
    "x = 11 \n",
    "if x == 10 :\n",
    "    print(\"x is = 10\")\n",
    "    \n",
    "elif x > 10:\n",
    "    print(\"x is > 10 \")\n",
    "    \n",
    "elif x < 10:\n",
    "    print(\"x is < 10 \")\n",
    "    \n",
    "else:\n",
    "    print(\"error\")"
   ]
  },
  {
   "cell_type": "code",
   "execution_count": 38,
   "id": "bd79a1f4",
   "metadata": {},
   "outputs": [
    {
     "name": "stdout",
     "output_type": "stream",
     "text": [
      "enter your grade100\n",
      "ex\n"
     ]
    }
   ],
   "source": [
    "g = float(input(\"enter your grade\"))\n",
    "if g == 100 :\n",
    "    print(\"ex\")\n",
    "elif g >=90 : \n",
    "    print(\"VG\")\n",
    "elif g >= 80 :\n",
    "    print(\"G\")\n",
    "elif g >= 60 :\n",
    "    print(\"P\")\n",
    "else: \n",
    "    print(\"L\")"
   ]
  },
  {
   "cell_type": "code",
   "execution_count": 78,
   "id": "3d08b350",
   "metadata": {},
   "outputs": [
    {
     "data": {
      "text/plain": [
       "[1, 2, 3, 4, 5, 6]"
      ]
     },
     "execution_count": 78,
     "metadata": {},
     "output_type": "execute_result"
    }
   ],
   "source": [
    "lst = [1,2,3,4,5,6]\n",
    "lst"
   ]
  },
  {
   "cell_type": "code",
   "execution_count": 79,
   "id": "0b13312c",
   "metadata": {},
   "outputs": [
    {
     "data": {
      "text/plain": [
       "list"
      ]
     },
     "execution_count": 79,
     "metadata": {},
     "output_type": "execute_result"
    }
   ],
   "source": [
    "type(lst)"
   ]
  },
  {
   "cell_type": "code",
   "execution_count": 80,
   "id": "32217502",
   "metadata": {},
   "outputs": [
    {
     "data": {
      "text/plain": [
       "[1, 2, 3, 4, 5, 6, 10]"
      ]
     },
     "execution_count": 80,
     "metadata": {},
     "output_type": "execute_result"
    }
   ],
   "source": [
    "lst.append(10)\n",
    "lst"
   ]
  },
  {
   "cell_type": "code",
   "execution_count": 81,
   "id": "5d2d596e",
   "metadata": {},
   "outputs": [
    {
     "data": {
      "text/plain": [
       "[10, 1, 2, 3, 4, 5, 6, 10]"
      ]
     },
     "execution_count": 81,
     "metadata": {},
     "output_type": "execute_result"
    }
   ],
   "source": [
    "lst.insert(0,10)\n",
    "lst"
   ]
  },
  {
   "cell_type": "code",
   "execution_count": 82,
   "id": "78c8279b",
   "metadata": {},
   "outputs": [
    {
     "data": {
      "text/plain": [
       "[1, 2, 3, 4, 5, 6, 10]"
      ]
     },
     "execution_count": 82,
     "metadata": {},
     "output_type": "execute_result"
    }
   ],
   "source": [
    "lst.pop(0)\n",
    "lst"
   ]
  },
  {
   "cell_type": "code",
   "execution_count": 83,
   "id": "61cd9fbe",
   "metadata": {},
   "outputs": [
    {
     "data": {
      "text/plain": [
       "1"
      ]
     },
     "execution_count": 83,
     "metadata": {},
     "output_type": "execute_result"
    }
   ],
   "source": [
    "lst[0]"
   ]
  },
  {
   "cell_type": "code",
   "execution_count": 84,
   "id": "4f8edce7",
   "metadata": {},
   "outputs": [
    {
     "data": {
      "text/plain": [
       "[20, 2, 3, 4, 5, 6, 10]"
      ]
     },
     "execution_count": 84,
     "metadata": {},
     "output_type": "execute_result"
    }
   ],
   "source": [
    "lst[0] = 20 \n",
    "lst"
   ]
  },
  {
   "cell_type": "code",
   "execution_count": 85,
   "id": "421848d1",
   "metadata": {},
   "outputs": [
    {
     "data": {
      "text/plain": [
       "[10, 6, 5, 4, 3, 2, 20]"
      ]
     },
     "execution_count": 85,
     "metadata": {},
     "output_type": "execute_result"
    }
   ],
   "source": [
    "lst[::-1]"
   ]
  },
  {
   "cell_type": "code",
   "execution_count": 86,
   "id": "cfb82faa",
   "metadata": {},
   "outputs": [
    {
     "data": {
      "text/plain": [
       "7"
      ]
     },
     "execution_count": 86,
     "metadata": {},
     "output_type": "execute_result"
    }
   ],
   "source": [
    "len(lst)"
   ]
  },
  {
   "cell_type": "code",
   "execution_count": 87,
   "id": "2fd1fb15",
   "metadata": {},
   "outputs": [],
   "source": [
    "lst.extend([[1,2,3]])"
   ]
  },
  {
   "cell_type": "code",
   "execution_count": 88,
   "id": "e8537908",
   "metadata": {},
   "outputs": [
    {
     "data": {
      "text/plain": [
       "[20, 2, 3, 4, 5, 6, 10, [1, 2, 3]]"
      ]
     },
     "execution_count": 88,
     "metadata": {},
     "output_type": "execute_result"
    }
   ],
   "source": [
    "lst"
   ]
  },
  {
   "cell_type": "code",
   "execution_count": 90,
   "id": "66bda312",
   "metadata": {},
   "outputs": [
    {
     "data": {
      "text/plain": [
       "[20, 2, 3, 4, 5, 6, 10, [1, 2, 3]]"
      ]
     },
     "execution_count": 90,
     "metadata": {},
     "output_type": "execute_result"
    }
   ],
   "source": [
    "lst"
   ]
  },
  {
   "cell_type": "code",
   "execution_count": 91,
   "id": "7b7fa1fe",
   "metadata": {},
   "outputs": [],
   "source": [
    "lst.remove(3)"
   ]
  },
  {
   "cell_type": "code",
   "execution_count": 92,
   "id": "39c1b874",
   "metadata": {
    "scrolled": true
   },
   "outputs": [
    {
     "data": {
      "text/plain": [
       "[20, 2, 4, 5, 6, 10, [1, 2, 3]]"
      ]
     },
     "execution_count": 92,
     "metadata": {},
     "output_type": "execute_result"
    }
   ],
   "source": [
    "lst"
   ]
  },
  {
   "cell_type": "code",
   "execution_count": 93,
   "id": "1c3a51f5",
   "metadata": {},
   "outputs": [
    {
     "data": {
      "text/plain": [
       "[20, 2, 4, 5, 6, 10, [1, 2, 3]]"
      ]
     },
     "execution_count": 93,
     "metadata": {},
     "output_type": "execute_result"
    }
   ],
   "source": [
    "lst1 = lst.copy()\n",
    "lst1"
   ]
  },
  {
   "cell_type": "code",
   "execution_count": 96,
   "id": "a7c2a915",
   "metadata": {},
   "outputs": [],
   "source": [
    "lst1.clear()"
   ]
  },
  {
   "cell_type": "code",
   "execution_count": 97,
   "id": "5172603e",
   "metadata": {},
   "outputs": [
    {
     "data": {
      "text/plain": [
       "[]"
      ]
     },
     "execution_count": 97,
     "metadata": {},
     "output_type": "execute_result"
    }
   ],
   "source": [
    "lst1"
   ]
  },
  {
   "cell_type": "code",
   "execution_count": 98,
   "id": "6a39f080",
   "metadata": {},
   "outputs": [
    {
     "data": {
      "text/plain": [
       "[20, 2, 4, 5, 6, 10, [1, 2, 3]]"
      ]
     },
     "execution_count": 98,
     "metadata": {},
     "output_type": "execute_result"
    }
   ],
   "source": [
    "lst"
   ]
  },
  {
   "cell_type": "code",
   "execution_count": null,
   "id": "7162d25c",
   "metadata": {},
   "outputs": [],
   "source": []
  },
  {
   "cell_type": "code",
   "execution_count": 74,
   "id": "3d1a865f",
   "metadata": {},
   "outputs": [
    {
     "data": {
      "text/plain": [
       "[20, 2, 4, 5, 1, 2, 3, [1, 2, 3]]"
      ]
     },
     "execution_count": 74,
     "metadata": {},
     "output_type": "execute_result"
    }
   ],
   "source": [
    "lst2 = lst\n",
    "lst2"
   ]
  },
  {
   "cell_type": "code",
   "execution_count": 75,
   "id": "c1689b86",
   "metadata": {},
   "outputs": [],
   "source": [
    "lst2.clear()"
   ]
  },
  {
   "cell_type": "code",
   "execution_count": 76,
   "id": "29d4eccf",
   "metadata": {},
   "outputs": [
    {
     "data": {
      "text/plain": [
       "[]"
      ]
     },
     "execution_count": 76,
     "metadata": {},
     "output_type": "execute_result"
    }
   ],
   "source": [
    "lst2"
   ]
  },
  {
   "cell_type": "code",
   "execution_count": 77,
   "id": "0194a8e7",
   "metadata": {},
   "outputs": [
    {
     "data": {
      "text/plain": [
       "[]"
      ]
     },
     "execution_count": 77,
     "metadata": {},
     "output_type": "execute_result"
    }
   ],
   "source": [
    "lst"
   ]
  },
  {
   "cell_type": "code",
   "execution_count": null,
   "id": "583f9e99",
   "metadata": {},
   "outputs": [],
   "source": []
  },
  {
   "cell_type": "code",
   "execution_count": 100,
   "id": "09e6a07c",
   "metadata": {},
   "outputs": [],
   "source": [
    "lst = []"
   ]
  },
  {
   "cell_type": "code",
   "execution_count": 101,
   "id": "ce6c5c46",
   "metadata": {},
   "outputs": [
    {
     "data": {
      "text/plain": [
       "[3]"
      ]
     },
     "execution_count": 101,
     "metadata": {},
     "output_type": "execute_result"
    }
   ],
   "source": [
    "lst.append(3)\n",
    "lst"
   ]
  },
  {
   "cell_type": "code",
   "execution_count": 102,
   "id": "d9b5b2d2",
   "metadata": {},
   "outputs": [
    {
     "name": "stdout",
     "output_type": "stream",
     "text": [
      "word1ahmed\n",
      "word2ibrahim\n",
      "word3salem\n",
      "word4sayed\n"
     ]
    }
   ],
   "source": [
    "x1 = input(\"word1\")\n",
    "x2 = input(\"word2\")\n",
    "x3 = input(\"word3\")\n",
    "x4 = input(\"word4\")\n",
    "lst = []\n",
    "lst.append(x1)\n",
    "lst.append(x2)\n",
    "lst.append(x3)\n",
    "lst.append(x4)"
   ]
  },
  {
   "cell_type": "code",
   "execution_count": 103,
   "id": "54a9d086",
   "metadata": {},
   "outputs": [
    {
     "data": {
      "text/plain": [
       "['ahmed', 'ibrahim', 'salem', 'sayed']"
      ]
     },
     "execution_count": 103,
     "metadata": {},
     "output_type": "execute_result"
    }
   ],
   "source": [
    "lst"
   ]
  },
  {
   "cell_type": "code",
   "execution_count": 104,
   "id": "beef6b05",
   "metadata": {},
   "outputs": [],
   "source": [
    "lst.extend([x1,x2,x3,x4])"
   ]
  },
  {
   "cell_type": "code",
   "execution_count": 105,
   "id": "c2102668",
   "metadata": {},
   "outputs": [
    {
     "data": {
      "text/plain": [
       "['ahmed', 'ibrahim', 'salem', 'sayed', 'ahmed', 'ibrahim', 'salem', 'sayed']"
      ]
     },
     "execution_count": 105,
     "metadata": {},
     "output_type": "execute_result"
    }
   ],
   "source": [
    "lst"
   ]
  },
  {
   "cell_type": "code",
   "execution_count": 106,
   "id": "f3b54aa5",
   "metadata": {},
   "outputs": [
    {
     "name": "stdout",
     "output_type": "stream",
     "text": [
      "enter your name ahmed ibrahim salem\n"
     ]
    }
   ],
   "source": [
    "s = input(\"enter your name \" )\n"
   ]
  },
  {
   "cell_type": "code",
   "execution_count": 107,
   "id": "9cd5849d",
   "metadata": {},
   "outputs": [
    {
     "data": {
      "text/plain": [
       "'ahmed ibrahim salem'"
      ]
     },
     "execution_count": 107,
     "metadata": {},
     "output_type": "execute_result"
    }
   ],
   "source": [
    "s"
   ]
  },
  {
   "cell_type": "code",
   "execution_count": 109,
   "id": "c20e2ebd",
   "metadata": {},
   "outputs": [],
   "source": [
    "r = s.split()"
   ]
  },
  {
   "cell_type": "code",
   "execution_count": 110,
   "id": "b44b4f6a",
   "metadata": {},
   "outputs": [
    {
     "data": {
      "text/plain": [
       "['ahmed', 'ibrahim', 'salem']"
      ]
     },
     "execution_count": 110,
     "metadata": {},
     "output_type": "execute_result"
    }
   ],
   "source": [
    "r"
   ]
  },
  {
   "cell_type": "code",
   "execution_count": 111,
   "id": "040aa10f",
   "metadata": {},
   "outputs": [
    {
     "data": {
      "text/plain": [
       "['a', 'h', 'm', 'e', 'd']"
      ]
     },
     "execution_count": 111,
     "metadata": {},
     "output_type": "execute_result"
    }
   ],
   "source": [
    "list(r[0])"
   ]
  },
  {
   "cell_type": "code",
   "execution_count": 114,
   "id": "67c524de",
   "metadata": {},
   "outputs": [],
   "source": [
    "name = \"amit\"\n",
    "name = list(name)"
   ]
  },
  {
   "cell_type": "code",
   "execution_count": 115,
   "id": "debf49f8",
   "metadata": {},
   "outputs": [
    {
     "data": {
      "text/plain": [
       "['a', 'm', 'i', 't']"
      ]
     },
     "execution_count": 115,
     "metadata": {},
     "output_type": "execute_result"
    }
   ],
   "source": [
    "name"
   ]
  },
  {
   "cell_type": "code",
   "execution_count": 118,
   "id": "bd04d64e",
   "metadata": {},
   "outputs": [],
   "source": [
    "name[1] = name[1].upper()"
   ]
  },
  {
   "cell_type": "code",
   "execution_count": 119,
   "id": "0e9abc5d",
   "metadata": {},
   "outputs": [
    {
     "data": {
      "text/plain": [
       "['a', 'M', 'i', 't']"
      ]
     },
     "execution_count": 119,
     "metadata": {},
     "output_type": "execute_result"
    }
   ],
   "source": [
    "name"
   ]
  },
  {
   "cell_type": "code",
   "execution_count": 120,
   "id": "53c4275d",
   "metadata": {},
   "outputs": [],
   "source": [
    "lst = [1,2,3,3.5,\"ahmed\"]"
   ]
  },
  {
   "cell_type": "code",
   "execution_count": 121,
   "id": "6448b4e0",
   "metadata": {},
   "outputs": [
    {
     "data": {
      "text/plain": [
       "[1, 2, 3, 3.5, 'ahmed']"
      ]
     },
     "execution_count": 121,
     "metadata": {},
     "output_type": "execute_result"
    }
   ],
   "source": [
    "lst"
   ]
  },
  {
   "cell_type": "code",
   "execution_count": 122,
   "id": "ab540f97",
   "metadata": {},
   "outputs": [
    {
     "data": {
      "text/plain": [
       "tuple"
      ]
     },
     "execution_count": 122,
     "metadata": {},
     "output_type": "execute_result"
    }
   ],
   "source": [
    "t = (1,2,3,4)\n",
    "type(t)"
   ]
  },
  {
   "cell_type": "code",
   "execution_count": 126,
   "id": "113d0a52",
   "metadata": {},
   "outputs": [],
   "source": [
    "t = tuple([1,2,3,4,5])"
   ]
  },
  {
   "cell_type": "code",
   "execution_count": 127,
   "id": "c10a36e0",
   "metadata": {},
   "outputs": [
    {
     "data": {
      "text/plain": [
       "tuple"
      ]
     },
     "execution_count": 127,
     "metadata": {},
     "output_type": "execute_result"
    }
   ],
   "source": [
    "type(t)"
   ]
  },
  {
   "cell_type": "code",
   "execution_count": 150,
   "id": "40d6e76d",
   "metadata": {},
   "outputs": [
    {
     "data": {
      "text/plain": [
       "(1, 2, 3, 4, 5, 4, 5, 5)"
      ]
     },
     "execution_count": 150,
     "metadata": {},
     "output_type": "execute_result"
    }
   ],
   "source": [
    "lst = [1,2,3,4,5 , 4, 5, 5 ]\n",
    "t = tuple(lst)\n",
    "t"
   ]
  },
  {
   "cell_type": "code",
   "execution_count": 151,
   "id": "db6a2f48",
   "metadata": {},
   "outputs": [
    {
     "data": {
      "text/plain": [
       "3"
      ]
     },
     "execution_count": 151,
     "metadata": {},
     "output_type": "execute_result"
    }
   ],
   "source": [
    "t.count(5)"
   ]
  },
  {
   "cell_type": "code",
   "execution_count": 152,
   "id": "13668809",
   "metadata": {},
   "outputs": [
    {
     "data": {
      "text/plain": [
       "3"
      ]
     },
     "execution_count": 152,
     "metadata": {},
     "output_type": "execute_result"
    }
   ],
   "source": [
    "t.index(4)"
   ]
  },
  {
   "cell_type": "code",
   "execution_count": 153,
   "id": "44e1eb25",
   "metadata": {},
   "outputs": [
    {
     "data": {
      "text/plain": [
       "False"
      ]
     },
     "execution_count": 153,
     "metadata": {},
     "output_type": "execute_result"
    }
   ],
   "source": [
    "0 in t"
   ]
  },
  {
   "cell_type": "code",
   "execution_count": 154,
   "id": "dfc4956c",
   "metadata": {},
   "outputs": [
    {
     "ename": "TypeError",
     "evalue": "'tuple' object does not support item assignment",
     "output_type": "error",
     "traceback": [
      "\u001b[1;31m---------------------------------------------------------------------------\u001b[0m",
      "\u001b[1;31mTypeError\u001b[0m                                 Traceback (most recent call last)",
      "Cell \u001b[1;32mIn[154], line 1\u001b[0m\n\u001b[1;32m----> 1\u001b[0m t[\u001b[38;5;241m0\u001b[39m] \u001b[38;5;241m=\u001b[39m \u001b[38;5;241m2\u001b[39m\n",
      "\u001b[1;31mTypeError\u001b[0m: 'tuple' object does not support item assignment"
     ]
    }
   ],
   "source": [
    "t[0] = 2"
   ]
  },
  {
   "cell_type": "code",
   "execution_count": 155,
   "id": "fa0f25ca",
   "metadata": {},
   "outputs": [
    {
     "data": {
      "text/plain": [
       "(1, 2, 3, 4, 5, 4, 5, 5, 1, 2, 3, 4, 5, 4, 5, 5)"
      ]
     },
     "execution_count": 155,
     "metadata": {},
     "output_type": "execute_result"
    }
   ],
   "source": [
    "t * 2 "
   ]
  },
  {
   "cell_type": "code",
   "execution_count": 156,
   "id": "478c471f",
   "metadata": {},
   "outputs": [
    {
     "data": {
      "text/plain": [
       "(1, 2, 3, 4, 5, 4, 5, 5)"
      ]
     },
     "execution_count": 156,
     "metadata": {},
     "output_type": "execute_result"
    }
   ],
   "source": [
    "t"
   ]
  },
  {
   "cell_type": "code",
   "execution_count": 157,
   "id": "97418b39",
   "metadata": {},
   "outputs": [
    {
     "data": {
      "text/plain": [
       "2108628870208"
      ]
     },
     "execution_count": 157,
     "metadata": {},
     "output_type": "execute_result"
    }
   ],
   "source": [
    "id(t)"
   ]
  },
  {
   "cell_type": "code",
   "execution_count": 158,
   "id": "4ba2580f",
   "metadata": {},
   "outputs": [],
   "source": [
    "t= t + (4,)"
   ]
  },
  {
   "cell_type": "code",
   "execution_count": 159,
   "id": "63bb772a",
   "metadata": {},
   "outputs": [
    {
     "data": {
      "text/plain": [
       "2108628873792"
      ]
     },
     "execution_count": 159,
     "metadata": {},
     "output_type": "execute_result"
    }
   ],
   "source": [
    "id(t)"
   ]
  },
  {
   "cell_type": "code",
   "execution_count": 160,
   "id": "0bb09403",
   "metadata": {},
   "outputs": [
    {
     "data": {
      "text/plain": [
       "(1, 2, 3, 4, 5, 4, 5, 5, 4)"
      ]
     },
     "execution_count": 160,
     "metadata": {},
     "output_type": "execute_result"
    }
   ],
   "source": [
    "t"
   ]
  },
  {
   "cell_type": "code",
   "execution_count": 162,
   "id": "61ba80be",
   "metadata": {},
   "outputs": [
    {
     "data": {
      "text/plain": [
       "{1, 2, 3, 4}"
      ]
     },
     "execution_count": 162,
     "metadata": {},
     "output_type": "execute_result"
    }
   ],
   "source": [
    "s = {3,2,1,3,4}\n",
    "s"
   ]
  },
  {
   "cell_type": "code",
   "execution_count": 165,
   "id": "a0aeef91",
   "metadata": {},
   "outputs": [
    {
     "data": {
      "text/plain": [
       "{1, 2, 3, 4, 5}"
      ]
     },
     "execution_count": 165,
     "metadata": {},
     "output_type": "execute_result"
    }
   ],
   "source": [
    "A = {1,2,3}\n",
    "B = {3,4,5}\n",
    "u = A.union(B)\n",
    "u"
   ]
  },
  {
   "cell_type": "code",
   "execution_count": 167,
   "id": "573720c3",
   "metadata": {},
   "outputs": [
    {
     "data": {
      "text/plain": [
       "{3}"
      ]
     },
     "execution_count": 167,
     "metadata": {},
     "output_type": "execute_result"
    }
   ],
   "source": [
    "i = A.intersection(B)\n",
    "i"
   ]
  },
  {
   "cell_type": "code",
   "execution_count": 168,
   "id": "750051a8",
   "metadata": {},
   "outputs": [
    {
     "data": {
      "text/plain": [
       "{3}"
      ]
     },
     "execution_count": 168,
     "metadata": {},
     "output_type": "execute_result"
    }
   ],
   "source": [
    "A.intersection_update(B)\n",
    "A"
   ]
  },
  {
   "cell_type": "code",
   "execution_count": 169,
   "id": "cd0ce635",
   "metadata": {},
   "outputs": [
    {
     "data": {
      "text/plain": [
       "{3}"
      ]
     },
     "execution_count": 169,
     "metadata": {},
     "output_type": "execute_result"
    }
   ],
   "source": [
    "A"
   ]
  },
  {
   "cell_type": "code",
   "execution_count": 170,
   "id": "8c8437de",
   "metadata": {},
   "outputs": [
    {
     "data": {
      "text/plain": [
       "{3, 4, 5}"
      ]
     },
     "execution_count": 170,
     "metadata": {},
     "output_type": "execute_result"
    }
   ],
   "source": [
    "B"
   ]
  },
  {
   "cell_type": "code",
   "execution_count": 171,
   "id": "b83ce468",
   "metadata": {},
   "outputs": [
    {
     "ename": "TypeError",
     "evalue": "'set' object is not subscriptable",
     "output_type": "error",
     "traceback": [
      "\u001b[1;31m---------------------------------------------------------------------------\u001b[0m",
      "\u001b[1;31mTypeError\u001b[0m                                 Traceback (most recent call last)",
      "Cell \u001b[1;32mIn[171], line 1\u001b[0m\n\u001b[1;32m----> 1\u001b[0m \u001b[43mB\u001b[49m\u001b[43m[\u001b[49m\u001b[38;5;241;43m0\u001b[39;49m\u001b[43m]\u001b[49m\n",
      "\u001b[1;31mTypeError\u001b[0m: 'set' object is not subscriptable"
     ]
    }
   ],
   "source": [
    "B[0]"
   ]
  },
  {
   "cell_type": "code",
   "execution_count": 172,
   "id": "5cc3928d",
   "metadata": {},
   "outputs": [
    {
     "data": {
      "text/plain": [
       "False"
      ]
     },
     "execution_count": 172,
     "metadata": {},
     "output_type": "execute_result"
    }
   ],
   "source": [
    "1 in B "
   ]
  },
  {
   "cell_type": "code",
   "execution_count": 174,
   "id": "21b800f3",
   "metadata": {},
   "outputs": [
    {
     "data": {
      "text/plain": [
       "{3, 4}"
      ]
     },
     "execution_count": 174,
     "metadata": {},
     "output_type": "execute_result"
    }
   ],
   "source": [
    "A.add(4)\n",
    "A"
   ]
  },
  {
   "cell_type": "code",
   "execution_count": 176,
   "id": "16888313",
   "metadata": {},
   "outputs": [],
   "source": [
    "lst = [1,2,3,4,5,5,5,5,6,6,7,8,8]\n",
    "s = set(lst)"
   ]
  },
  {
   "cell_type": "code",
   "execution_count": 177,
   "id": "c8855da4",
   "metadata": {},
   "outputs": [
    {
     "data": {
      "text/plain": [
       "{1, 2, 3, 4, 5, 6, 7, 8}"
      ]
     },
     "execution_count": 177,
     "metadata": {},
     "output_type": "execute_result"
    }
   ],
   "source": [
    "s"
   ]
  },
  {
   "cell_type": "code",
   "execution_count": 180,
   "id": "4a10c4a0",
   "metadata": {},
   "outputs": [],
   "source": [
    "s.remove(1)\n"
   ]
  },
  {
   "cell_type": "code",
   "execution_count": 181,
   "id": "82228552",
   "metadata": {},
   "outputs": [
    {
     "data": {
      "text/plain": [
       "{2, 4, 5, 6, 7, 8}"
      ]
     },
     "execution_count": 181,
     "metadata": {},
     "output_type": "execute_result"
    }
   ],
   "source": [
    "s"
   ]
  },
  {
   "cell_type": "code",
   "execution_count": 182,
   "id": "a2c60da1",
   "metadata": {},
   "outputs": [],
   "source": [
    "s1 = {1,2,3,4}\n",
    "s2 = {4,5,6}\n",
    "s1.update(s2)"
   ]
  },
  {
   "cell_type": "code",
   "execution_count": 183,
   "id": "954609a9",
   "metadata": {},
   "outputs": [
    {
     "data": {
      "text/plain": [
       "{1, 2, 3, 4, 5, 6}"
      ]
     },
     "execution_count": 183,
     "metadata": {},
     "output_type": "execute_result"
    }
   ],
   "source": [
    "s1"
   ]
  },
  {
   "cell_type": "code",
   "execution_count": 188,
   "id": "7e89b765",
   "metadata": {},
   "outputs": [],
   "source": [
    "d = {\"k1\":\"value\" , 'k2':[1,2,3,[2,3,4,5,[\"A\" , \"B\" , \"ABCD\" ]]]}"
   ]
  },
  {
   "cell_type": "code",
   "execution_count": 194,
   "id": "1fed8801",
   "metadata": {},
   "outputs": [
    {
     "data": {
      "text/plain": [
       "'c'"
      ]
     },
     "execution_count": 194,
     "metadata": {},
     "output_type": "execute_result"
    }
   ],
   "source": [
    "d[\"k2\"][-1][-1][-1][2].lower()"
   ]
  },
  {
   "cell_type": "code",
   "execution_count": 198,
   "id": "5d3e94fd",
   "metadata": {},
   "outputs": [],
   "source": [
    "d[\"k2\"][-1][-1][-1]=d[\"k2\"][-1][-1][-1][0:2] +  d[\"k2\"][-1][-1][-1][2].lower() + d[\"k2\"][-1][-1][-1][-1]"
   ]
  },
  {
   "cell_type": "code",
   "execution_count": 199,
   "id": "d42efb71",
   "metadata": {},
   "outputs": [
    {
     "data": {
      "text/plain": [
       "'ABcD'"
      ]
     },
     "execution_count": 199,
     "metadata": {},
     "output_type": "execute_result"
    }
   ],
   "source": [
    "d[\"k2\"][-1][-1][-1]"
   ]
  },
  {
   "cell_type": "code",
   "execution_count": 200,
   "id": "c28a0743",
   "metadata": {},
   "outputs": [
    {
     "data": {
      "text/plain": [
       "{'k1': 'value', 'k2': [1, 2, 3, [2, 3, 4, 5, ['A', 'B', 'ABcD']]]}"
      ]
     },
     "execution_count": 200,
     "metadata": {},
     "output_type": "execute_result"
    }
   ],
   "source": [
    "d"
   ]
  },
  {
   "cell_type": "code",
   "execution_count": null,
   "id": "ccce838c",
   "metadata": {},
   "outputs": [],
   "source": []
  }
 ],
 "metadata": {
  "kernelspec": {
   "display_name": "Python 3 (ipykernel)",
   "language": "python",
   "name": "python3"
  },
  "language_info": {
   "codemirror_mode": {
    "name": "ipython",
    "version": 3
   },
   "file_extension": ".py",
   "mimetype": "text/x-python",
   "name": "python",
   "nbconvert_exporter": "python",
   "pygments_lexer": "ipython3",
   "version": "3.10.9"
  }
 },
 "nbformat": 4,
 "nbformat_minor": 5
}
