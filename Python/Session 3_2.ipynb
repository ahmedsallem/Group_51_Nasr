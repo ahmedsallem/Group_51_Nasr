{
 "cells": [
  {
   "cell_type": "code",
   "execution_count": 3,
   "id": "7ce8c68d",
   "metadata": {},
   "outputs": [],
   "source": [
    "# %run Session_3.ipynb"
   ]
  },
  {
   "cell_type": "code",
   "execution_count": 4,
   "id": "4567090b",
   "metadata": {},
   "outputs": [],
   "source": [
    "f = open(\"test.txt\" , \"a\")"
   ]
  },
  {
   "cell_type": "code",
   "execution_count": 5,
   "id": "91564846",
   "metadata": {},
   "outputs": [
    {
     "data": {
      "text/plain": [
       "16"
      ]
     },
     "execution_count": 5,
     "metadata": {},
     "output_type": "execute_result"
    }
   ],
   "source": [
    "f.write(\"my name is ahmed\")"
   ]
  },
  {
   "cell_type": "code",
   "execution_count": 6,
   "id": "bdfa5d57",
   "metadata": {},
   "outputs": [],
   "source": [
    "f.close()"
   ]
  },
  {
   "cell_type": "code",
   "execution_count": 7,
   "id": "f922e10c",
   "metadata": {},
   "outputs": [],
   "source": [
    "f = open(\"test.txt\")"
   ]
  },
  {
   "cell_type": "code",
   "execution_count": 8,
   "id": "e8bd9f40",
   "metadata": {},
   "outputs": [
    {
     "data": {
      "text/plain": [
       "'my name is ahmed'"
      ]
     },
     "execution_count": 8,
     "metadata": {},
     "output_type": "execute_result"
    }
   ],
   "source": [
    "f.read()"
   ]
  },
  {
   "cell_type": "code",
   "execution_count": 44,
   "id": "08498d79",
   "metadata": {},
   "outputs": [],
   "source": [
    "with open(\"test.txt\", \"w\" , encoding=\"utf-8\") as f:\n",
    "    f.write(\"my name is ahmed\\n\")\n",
    "    f.write(\"my name is ahmed\\n\")    \n",
    "    f.write(\"my name is ahmed\\n\")    \n",
    "    f.write(\"my name is ahmed\\n\")    \n",
    "    f.close()"
   ]
  },
  {
   "cell_type": "code",
   "execution_count": 45,
   "id": "7eb6daf0",
   "metadata": {},
   "outputs": [
    {
     "name": "stdout",
     "output_type": "stream",
     "text": [
      "my name is ahmed\n",
      "\n",
      "my name is ahmed\n",
      "\n",
      "my name is ahmed\n",
      "\n",
      "my name is ahmed\n",
      "\n"
     ]
    }
   ],
   "source": [
    "with open(\"test.txt\" , encoding=\"utf-8\") as f:\n",
    "    for i in f.readlines():\n",
    "        print(i)"
   ]
  },
  {
   "cell_type": "code",
   "execution_count": 46,
   "id": "0c60d6fc",
   "metadata": {},
   "outputs": [],
   "source": [
    "import module"
   ]
  },
  {
   "cell_type": "code",
   "execution_count": 47,
   "id": "2a124c01",
   "metadata": {},
   "outputs": [
    {
     "data": {
      "text/plain": [
       "20"
      ]
     },
     "execution_count": 47,
     "metadata": {},
     "output_type": "execute_result"
    }
   ],
   "source": [
    "module.add(10,10)"
   ]
  },
  {
   "cell_type": "code",
   "execution_count": 48,
   "id": "061ec509",
   "metadata": {},
   "outputs": [
    {
     "data": {
      "text/plain": [
       "100"
      ]
     },
     "execution_count": 48,
     "metadata": {},
     "output_type": "execute_result"
    }
   ],
   "source": [
    "module.multip(10,10)"
   ]
  },
  {
   "cell_type": "code",
   "execution_count": 10,
   "id": "35c0011d",
   "metadata": {},
   "outputs": [
    {
     "data": {
      "text/plain": [
       "[2, 4, 6, 8, 10]"
      ]
     },
     "execution_count": 10,
     "metadata": {},
     "output_type": "execute_result"
    }
   ],
   "source": [
    "lst = [1,2,3,4,5]\n",
    "[ i * 2 for i in lst]"
   ]
  },
  {
   "cell_type": "code",
   "execution_count": 11,
   "id": "827888e5",
   "metadata": {},
   "outputs": [],
   "source": [
    "def factorial(x):\n",
    "    if x == 1:\n",
    "        return 1 \n",
    "    else:\n",
    "        return x * factorial(x-1)"
   ]
  },
  {
   "cell_type": "code",
   "execution_count": 12,
   "id": "688c69c4",
   "metadata": {},
   "outputs": [
    {
     "data": {
      "text/plain": [
       "120"
      ]
     },
     "execution_count": 12,
     "metadata": {},
     "output_type": "execute_result"
    }
   ],
   "source": [
    "factorial(5)"
   ]
  },
  {
   "cell_type": "code",
   "execution_count": 13,
   "id": "8d118ab9",
   "metadata": {},
   "outputs": [],
   "source": [
    "t = (1,2,3,4,5)"
   ]
  },
  {
   "cell_type": "code",
   "execution_count": 20,
   "id": "2e719de5",
   "metadata": {
    "scrolled": false
   },
   "outputs": [
    {
     "name": "stdout",
     "output_type": "stream",
     "text": [
      "0\n",
      "Great\n",
      "try and except ended\n"
     ]
    }
   ],
   "source": [
    "try:\n",
    "    print(t.index(1))\n",
    "except:\n",
    "    print(\"the number not in tuple\")\n",
    "else:\n",
    "    print(\"Great\")\n",
    "finally:\n",
    "    print(\"try and except ended\")"
   ]
  },
  {
   "cell_type": "code",
   "execution_count": 32,
   "id": "f0574957",
   "metadata": {},
   "outputs": [],
   "source": [
    "illegal_chars = \"0123456789!@#$%^&*()-+=[]{}|\\\\;:'\\\",.<>/?`~ \"\n",
    "string1 = \"asdf@#$%$dfdf\"\n",
    "def cleaned_text(word):\n",
    "    s = ''\n",
    "    for i in word:\n",
    "        if i in illegal_chars:\n",
    "            s += ''\n",
    "        else:\n",
    "            s += i\n",
    "    return s"
   ]
  },
  {
   "cell_type": "code",
   "execution_count": 33,
   "id": "975aa8b9",
   "metadata": {},
   "outputs": [
    {
     "data": {
      "text/plain": [
       "'asdfdfdf'"
      ]
     },
     "execution_count": 33,
     "metadata": {},
     "output_type": "execute_result"
    }
   ],
   "source": [
    "cleaned_text(string1)"
   ]
  },
  {
   "cell_type": "code",
   "execution_count": 34,
   "id": "84f91962",
   "metadata": {},
   "outputs": [],
   "source": [
    "lst = [\"ahmed\" , \"salem\" , \"mohamed\" , \"mohanad\" , \"kareem\" , \"aya\"]"
   ]
  },
  {
   "cell_type": "code",
   "execution_count": 41,
   "id": "44dd4896",
   "metadata": {},
   "outputs": [
    {
     "name": "stdout",
     "output_type": "stream",
     "text": [
      "[5, 5, 7, 7, 6, 3]\n"
     ]
    },
    {
     "data": {
      "text/plain": [
       "'mohamed'"
      ]
     },
     "execution_count": 41,
     "metadata": {},
     "output_type": "execute_result"
    }
   ],
   "source": [
    "le = []\n",
    "for i in lst:\n",
    "    le.append(len(i))\n",
    "# m_l = max(le)\n",
    "print(le)\n",
    "lst[le.index(max(le))]"
   ]
  },
  {
   "cell_type": "code",
   "execution_count": 46,
   "id": "cf74f43c",
   "metadata": {},
   "outputs": [
    {
     "data": {
      "text/plain": [
       "'mohamed'"
      ]
     },
     "execution_count": 46,
     "metadata": {},
     "output_type": "execute_result"
    }
   ],
   "source": [
    "max(lst , key = len)"
   ]
  },
  {
   "cell_type": "code",
   "execution_count": 47,
   "id": "996fcf6b",
   "metadata": {},
   "outputs": [
    {
     "data": {
      "text/plain": [
       "'aya'"
      ]
     },
     "execution_count": 47,
     "metadata": {},
     "output_type": "execute_result"
    }
   ],
   "source": [
    "min(lst , key = len) "
   ]
  },
  {
   "cell_type": "code",
   "execution_count": 49,
   "id": "39507b96",
   "metadata": {},
   "outputs": [
    {
     "name": "stdout",
     "output_type": "stream",
     "text": [
      "False\n"
     ]
    }
   ],
   "source": [
    "string = \"lala\"\n",
    "if string == string[::-1]:\n",
    "    print(True)\n",
    "else:\n",
    "    print(False)\n"
   ]
  },
  {
   "cell_type": "code",
   "execution_count": 50,
   "id": "5eb7e99d",
   "metadata": {},
   "outputs": [],
   "source": [
    "t = (1,2,3,4)"
   ]
  },
  {
   "cell_type": "code",
   "execution_count": 51,
   "id": "2202c27e",
   "metadata": {},
   "outputs": [
    {
     "ename": "ValueError",
     "evalue": "tuple.index(x): x not in tuple",
     "output_type": "error",
     "traceback": [
      "\u001b[1;31m---------------------------------------------------------------------------\u001b[0m",
      "\u001b[1;31mValueError\u001b[0m                                Traceback (most recent call last)",
      "Cell \u001b[1;32mIn[51], line 1\u001b[0m\n\u001b[1;32m----> 1\u001b[0m \u001b[43mt\u001b[49m\u001b[38;5;241;43m.\u001b[39;49m\u001b[43mindex\u001b[49m\u001b[43m(\u001b[49m\u001b[38;5;241;43m5\u001b[39;49m\u001b[43m)\u001b[49m\n",
      "\u001b[1;31mValueError\u001b[0m: tuple.index(x): x not in tuple"
     ]
    }
   ],
   "source": [
    "t.index(5)"
   ]
  },
  {
   "cell_type": "code",
   "execution_count": 59,
   "id": "fdf0b44f",
   "metadata": {},
   "outputs": [
    {
     "name": "stdout",
     "output_type": "stream",
     "text": [
      "number not in tuple\n",
      "good\n"
     ]
    }
   ],
   "source": [
    "try:\n",
    "    print(t.index(31))\n",
    "except:\n",
    "    print(\"number not in tuple\")\n",
    "else:\n",
    "    print(\"Great\")\n",
    "finally:\n",
    "    print(\"good\")"
   ]
  },
  {
   "cell_type": "code",
   "execution_count": 64,
   "id": "18ef2ad3",
   "metadata": {},
   "outputs": [],
   "source": [
    "# def add(n1 , n2):\n",
    "#     return n1+n2"
   ]
  },
  {
   "cell_type": "code",
   "execution_count": 65,
   "id": "81763618",
   "metadata": {},
   "outputs": [],
   "source": [
    "add = lambda n1 ,n2 : n1+n2"
   ]
  },
  {
   "cell_type": "code",
   "execution_count": 66,
   "id": "d53911a8",
   "metadata": {},
   "outputs": [
    {
     "data": {
      "text/plain": [
       "30"
      ]
     },
     "execution_count": 66,
     "metadata": {},
     "output_type": "execute_result"
    }
   ],
   "source": [
    "add(10,20)"
   ]
  },
  {
   "cell_type": "code",
   "execution_count": 68,
   "id": "65076c47",
   "metadata": {},
   "outputs": [
    {
     "data": {
      "text/plain": [
       "[1, 4, 27]"
      ]
     },
     "execution_count": 68,
     "metadata": {},
     "output_type": "execute_result"
    }
   ],
   "source": [
    "lst = [1,2,3]\n",
    "[ i ** i for i in lst]"
   ]
  },
  {
   "cell_type": "code",
   "execution_count": 71,
   "id": "3a7d10e6",
   "metadata": {},
   "outputs": [
    {
     "data": {
      "text/plain": [
       "[2, 4, 6]"
      ]
     },
     "execution_count": 71,
     "metadata": {},
     "output_type": "execute_result"
    }
   ],
   "source": [
    "lst = [1,2,3]\n",
    "[ i+i for i in lst]"
   ]
  },
  {
   "cell_type": "code",
   "execution_count": 72,
   "id": "0b01da80",
   "metadata": {},
   "outputs": [],
   "source": [
    "lst = [[1,2,3],[4,5,6]]"
   ]
  },
  {
   "cell_type": "code",
   "execution_count": 75,
   "id": "0fbd6353",
   "metadata": {},
   "outputs": [
    {
     "name": "stdout",
     "output_type": "stream",
     "text": [
      "1\n",
      "2\n",
      "3\n",
      "4\n",
      "5\n",
      "6\n"
     ]
    }
   ],
   "source": [
    "for i in lst:\n",
    "    for j in i:\n",
    "        print(j)"
   ]
  },
  {
   "cell_type": "code",
   "execution_count": 80,
   "id": "66539a3a",
   "metadata": {},
   "outputs": [],
   "source": [
    "f = open(\"test2.txt\" , \"w\")"
   ]
  },
  {
   "cell_type": "code",
   "execution_count": 82,
   "id": "5440d80b",
   "metadata": {},
   "outputs": [
    {
     "data": {
      "text/plain": [
       "16"
      ]
     },
     "execution_count": 82,
     "metadata": {},
     "output_type": "execute_result"
    }
   ],
   "source": [
    "f.write(\"my name is ahmed\")"
   ]
  },
  {
   "cell_type": "code",
   "execution_count": 84,
   "id": "01520675",
   "metadata": {},
   "outputs": [],
   "source": [
    "f.close()"
   ]
  },
  {
   "cell_type": "code",
   "execution_count": 85,
   "id": "f1e2147d",
   "metadata": {},
   "outputs": [
    {
     "data": {
      "text/plain": [
       "'my name is ahmed'"
      ]
     },
     "execution_count": 85,
     "metadata": {},
     "output_type": "execute_result"
    }
   ],
   "source": [
    "f = open(\"test2.txt\" , \"r\")\n",
    "f.read()"
   ]
  },
  {
   "cell_type": "code",
   "execution_count": 86,
   "id": "d04d84e8",
   "metadata": {},
   "outputs": [],
   "source": [
    "f = open(\"test3.txt\" , \"a\")"
   ]
  },
  {
   "cell_type": "code",
   "execution_count": 87,
   "id": "95e0efc1",
   "metadata": {},
   "outputs": [
    {
     "data": {
      "text/plain": [
       "17"
      ]
     },
     "execution_count": 87,
     "metadata": {},
     "output_type": "execute_result"
    }
   ],
   "source": [
    "f.write(\"my name is ahmed \")"
   ]
  },
  {
   "cell_type": "code",
   "execution_count": 88,
   "id": "7e2e9b9d",
   "metadata": {},
   "outputs": [],
   "source": [
    "f.close()"
   ]
  },
  {
   "cell_type": "code",
   "execution_count": 89,
   "id": "c9d7b54c",
   "metadata": {},
   "outputs": [],
   "source": [
    "f = open(\"test3.txt\" , \"w\")"
   ]
  },
  {
   "cell_type": "code",
   "execution_count": 90,
   "id": "ec38f26d",
   "metadata": {},
   "outputs": [
    {
     "data": {
      "text/plain": [
       "2"
      ]
     },
     "execution_count": 90,
     "metadata": {},
     "output_type": "execute_result"
    }
   ],
   "source": [
    "f.write(\"..\")"
   ]
  },
  {
   "cell_type": "code",
   "execution_count": 91,
   "id": "289eb4da",
   "metadata": {},
   "outputs": [],
   "source": [
    "f.close()"
   ]
  },
  {
   "cell_type": "code",
   "execution_count": 92,
   "id": "a77e4f4d",
   "metadata": {},
   "outputs": [
    {
     "data": {
      "text/plain": [
       "'..'"
      ]
     },
     "execution_count": 92,
     "metadata": {},
     "output_type": "execute_result"
    }
   ],
   "source": [
    "f = open(\"test3.txt\")\n",
    "f.read()"
   ]
  },
  {
   "cell_type": "code",
   "execution_count": 94,
   "id": "bc4f4180",
   "metadata": {},
   "outputs": [],
   "source": [
    "f = open(\"test4.txt\" , 'x')"
   ]
  },
  {
   "cell_type": "code",
   "execution_count": 104,
   "id": "84123f22",
   "metadata": {},
   "outputs": [],
   "source": [
    "with open(\"test.txt\", \"w\" , encoding=\"utf-8\") as f:\n",
    "    f.write(\"my name is احمد \\n\")\n",
    "    f.write(\"my name is ahmed\\n\")    \n",
    "    f.write(\"my name is ahmed\\n\")    \n",
    "    f.write(\"my name is ahmed\\n\")    \n",
    "    f.close()"
   ]
  },
  {
   "cell_type": "code",
   "execution_count": 114,
   "id": "ee022f79",
   "metadata": {
    "scrolled": true
   },
   "outputs": [
    {
     "name": "stdout",
     "output_type": "stream",
     "text": [
      "['my name is احمد', 'my name is ahmed', 'my name is ahmed', 'my name is ahmed']\n"
     ]
    }
   ],
   "source": [
    "with open(\"test.txt\", \"r\" , encoding=\"utf-8\") as f:\n",
    "    lst = f.readlines()\n",
    "    lst2=[]\n",
    "    for i in lst:\n",
    "        lst2.append(i.strip())\n",
    "    print(lst2)"
   ]
  },
  {
   "cell_type": "code",
   "execution_count": 110,
   "id": "77219e79",
   "metadata": {},
   "outputs": [
    {
     "data": {
      "text/plain": [
       "'   ahmed \\n\\t   '"
      ]
     },
     "execution_count": 110,
     "metadata": {},
     "output_type": "execute_result"
    }
   ],
   "source": [
    "x = \"   ahmed \\n\\t   \"\n",
    "x"
   ]
  },
  {
   "cell_type": "code",
   "execution_count": 111,
   "id": "553a8e56",
   "metadata": {},
   "outputs": [
    {
     "data": {
      "text/plain": [
       "'ahmed'"
      ]
     },
     "execution_count": 111,
     "metadata": {},
     "output_type": "execute_result"
    }
   ],
   "source": [
    "x.strip()"
   ]
  },
  {
   "cell_type": "code",
   "execution_count": 9,
   "id": "21e727b0",
   "metadata": {},
   "outputs": [
    {
     "data": {
      "text/plain": [
       "['__builtins__',\n",
       " '__cached__',\n",
       " '__doc__',\n",
       " '__file__',\n",
       " '__loader__',\n",
       " '__name__',\n",
       " '__package__',\n",
       " '__spec__',\n",
       " 'add',\n",
       " 'multp']"
      ]
     },
     "execution_count": 9,
     "metadata": {},
     "output_type": "execute_result"
    }
   ],
   "source": [
    "import module_1 as mo\n",
    "# from module_1 import add , multp\n",
    "dir(mo)"
   ]
  },
  {
   "cell_type": "code",
   "execution_count": 5,
   "id": "95e2bdf9",
   "metadata": {},
   "outputs": [
    {
     "data": {
      "text/plain": [
       "6"
      ]
     },
     "execution_count": 5,
     "metadata": {},
     "output_type": "execute_result"
    }
   ],
   "source": [
    "add(1,2,3)"
   ]
  },
  {
   "cell_type": "code",
   "execution_count": 6,
   "id": "534fe58a",
   "metadata": {},
   "outputs": [
    {
     "data": {
      "text/plain": [
       "6"
      ]
     },
     "execution_count": 6,
     "metadata": {},
     "output_type": "execute_result"
    }
   ],
   "source": [
    "multp(1,2,3)"
   ]
  },
  {
   "cell_type": "code",
   "execution_count": 18,
   "id": "589abc39",
   "metadata": {},
   "outputs": [],
   "source": [
    "import random"
   ]
  },
  {
   "cell_type": "code",
   "execution_count": 19,
   "id": "871d2f7c",
   "metadata": {
    "scrolled": true
   },
   "outputs": [],
   "source": [
    "# dir(random)"
   ]
  },
  {
   "cell_type": "code",
   "execution_count": 20,
   "id": "8239a4d9",
   "metadata": {},
   "outputs": [
    {
     "name": "stdout",
     "output_type": "stream",
     "text": [
      "Help on built-in function random:\n",
      "\n",
      "random() method of random.Random instance\n",
      "    random() -> x in the interval [0, 1).\n",
      "\n"
     ]
    }
   ],
   "source": [
    "help(random.random)"
   ]
  },
  {
   "cell_type": "code",
   "execution_count": 23,
   "id": "2174c88c",
   "metadata": {},
   "outputs": [
    {
     "data": {
      "text/plain": [
       "0.9089088118630881"
      ]
     },
     "execution_count": 23,
     "metadata": {},
     "output_type": "execute_result"
    }
   ],
   "source": [
    "random.random()"
   ]
  },
  {
   "cell_type": "code",
   "execution_count": 49,
   "id": "c651f667",
   "metadata": {},
   "outputs": [
    {
     "data": {
      "text/plain": [
       "2"
      ]
     },
     "execution_count": 49,
     "metadata": {},
     "output_type": "execute_result"
    }
   ],
   "source": [
    "random.randint(1,10)"
   ]
  },
  {
   "cell_type": "code",
   "execution_count": 50,
   "id": "07caf473",
   "metadata": {},
   "outputs": [
    {
     "data": {
      "text/plain": [
       "5"
      ]
     },
     "execution_count": 50,
     "metadata": {},
     "output_type": "execute_result"
    }
   ],
   "source": [
    "random.randrange(1,10)"
   ]
  },
  {
   "cell_type": "code",
   "execution_count": 60,
   "id": "1e7702d6",
   "metadata": {},
   "outputs": [
    {
     "data": {
      "text/plain": [
       "'a'"
      ]
     },
     "execution_count": 60,
     "metadata": {},
     "output_type": "execute_result"
    }
   ],
   "source": [
    "random.choice([\"ahmed\",\"a\",\"b\"])"
   ]
  },
  {
   "cell_type": "code",
   "execution_count": 69,
   "id": "63661442",
   "metadata": {},
   "outputs": [
    {
     "data": {
      "text/plain": [
       "[5, 1, 3, 7, 8, 2, 6, 4]"
      ]
     },
     "execution_count": 69,
     "metadata": {},
     "output_type": "execute_result"
    }
   ],
   "source": [
    "lst = [1,2,3,4,5,6,7,8]\n",
    "random.shuffle(lst)\n",
    "lst"
   ]
  },
  {
   "cell_type": "code",
   "execution_count": 13,
   "id": "ce55fa4e",
   "metadata": {},
   "outputs": [
    {
     "name": "stdout",
     "output_type": "stream",
     "text": [
      "Overwriting test4.txt\n"
     ]
    }
   ],
   "source": [
    "%%writefile test4.txt\n",
    "my name is ahmed  my age is 30"
   ]
  },
  {
   "cell_type": "code",
   "execution_count": 14,
   "id": "04f69a71",
   "metadata": {},
   "outputs": [
    {
     "data": {
      "text/plain": [
       "['my name is ahmed  my age is 30\\n']"
      ]
     },
     "execution_count": 14,
     "metadata": {},
     "output_type": "execute_result"
    }
   ],
   "source": [
    "f =open(\"test4.txt\")\n",
    "f.readlines()"
   ]
  },
  {
   "cell_type": "code",
   "execution_count": 15,
   "id": "9cd29a6b",
   "metadata": {},
   "outputs": [],
   "source": [
    "import re"
   ]
  },
  {
   "cell_type": "code",
   "execution_count": 16,
   "id": "ea0cb37f",
   "metadata": {},
   "outputs": [],
   "source": [
    "pattern = \"ahmed\"\n",
    "text = \"my name is ahmed and ahmed is very good in speaking and ahmed can play a football\""
   ]
  },
  {
   "cell_type": "code",
   "execution_count": 20,
   "id": "5db78ad6",
   "metadata": {},
   "outputs": [],
   "source": [
    "match = re.search(pattern , text)"
   ]
  },
  {
   "cell_type": "code",
   "execution_count": 23,
   "id": "26853421",
   "metadata": {},
   "outputs": [
    {
     "data": {
      "text/plain": [
       "(11, 16)"
      ]
     },
     "execution_count": 23,
     "metadata": {},
     "output_type": "execute_result"
    }
   ],
   "source": [
    "match.span()"
   ]
  },
  {
   "cell_type": "code",
   "execution_count": 128,
   "id": "927757ed",
   "metadata": {},
   "outputs": [],
   "source": [
    "class Dog:\n",
    "    def __init__(self , name , age):\n",
    "        self.name = name\n",
    "        self.age  = age\n",
    "        print(f\"Hello {name}\")\n",
    "    "
   ]
  },
  {
   "cell_type": "code",
   "execution_count": 129,
   "id": "7d25e570",
   "metadata": {},
   "outputs": [
    {
     "name": "stdout",
     "output_type": "stream",
     "text": [
      "Hello ahmed\n"
     ]
    }
   ],
   "source": [
    "d1 = Dog(\"ahmed\" , 25)"
   ]
  },
  {
   "cell_type": "code",
   "execution_count": 130,
   "id": "f270b3aa",
   "metadata": {},
   "outputs": [
    {
     "name": "stdout",
     "output_type": "stream",
     "text": [
      "ahmed\n"
     ]
    }
   ],
   "source": [
    "print(d1.name)"
   ]
  },
  {
   "cell_type": "code",
   "execution_count": 131,
   "id": "98630d80",
   "metadata": {},
   "outputs": [
    {
     "data": {
      "text/plain": [
       "25"
      ]
     },
     "execution_count": 131,
     "metadata": {},
     "output_type": "execute_result"
    }
   ],
   "source": [
    "d1.age"
   ]
  },
  {
   "cell_type": "code",
   "execution_count": 132,
   "id": "4ba7cf4d",
   "metadata": {},
   "outputs": [
    {
     "name": "stdout",
     "output_type": "stream",
     "text": [
      "Hello mo\n"
     ]
    }
   ],
   "source": [
    "d2 = Dog(\"mo\" , 26)"
   ]
  },
  {
   "cell_type": "code",
   "execution_count": 133,
   "id": "35915f8c",
   "metadata": {},
   "outputs": [],
   "source": [
    "Dog.name = \"so\""
   ]
  },
  {
   "cell_type": "code",
   "execution_count": 134,
   "id": "1d844bae",
   "metadata": {},
   "outputs": [
    {
     "data": {
      "text/plain": [
       "'ahmed'"
      ]
     },
     "execution_count": 134,
     "metadata": {},
     "output_type": "execute_result"
    }
   ],
   "source": [
    "d1.name"
   ]
  },
  {
   "cell_type": "code",
   "execution_count": 136,
   "id": "906ee6f4",
   "metadata": {},
   "outputs": [
    {
     "name": "stdout",
     "output_type": "stream",
     "text": [
      "John\n",
      "Mike\n"
     ]
    }
   ],
   "source": [
    "class Person:\n",
    "    __name = \"John\"\n",
    "    \n",
    "    def get_name(self):\n",
    "        return self.__name\n",
    "    \n",
    "    def set_name(self, name):\n",
    "        self.__name = name\n",
    "\n",
    "p = Person()\n",
    "print(p.get_name()) # this will print John\n",
    "p.set_name(\"Mike\")\n",
    "print(p.get_name()) # this will print Mike"
   ]
  },
  {
   "cell_type": "code",
   "execution_count": 161,
   "id": "f413c3e3",
   "metadata": {},
   "outputs": [
    {
     "name": "stdout",
     "output_type": "stream",
     "text": [
      "Ranger goes after the ball!\n",
      "MeOw shreds the string!\n",
      "Ranger is eating Dog.  23\n",
      "MeOw is eating Cat Food.  23\n"
     ]
    }
   ],
   "source": [
    "class Animal:\n",
    "    def __init__(self , name , age):\n",
    "        self.name = name\n",
    "        self.age = age\n",
    "    def eat(self , food):\n",
    "        print('%s is eating %s.  %s' %(self.name , food , self.age))\n",
    "class Dog(Animal):\n",
    "    def fetch(self , thing):\n",
    "        print('%s goes after the %s!' %(self.name , thing))\n",
    "class Cat(Animal):\n",
    "    def swatstring(self):\n",
    "        print('%s shreds the string!' %(self.name))\n",
    "# A = Animal('Animal')\n",
    "d = Dog('Ranger' , 23)\n",
    "c = Cat('MeOw' , 23)\n",
    "\n",
    "d.fetch('ball')\n",
    "c.swatstring()\n",
    "d.eat('Dog')\n",
    "c.eat('Cat Food')\n",
    "# d.swatstring()"
   ]
  },
  {
   "cell_type": "code",
   "execution_count": null,
   "id": "2b34b7fd",
   "metadata": {},
   "outputs": [],
   "source": []
  }
 ],
 "metadata": {
  "kernelspec": {
   "display_name": "Python 3 (ipykernel)",
   "language": "python",
   "name": "python3"
  },
  "language_info": {
   "codemirror_mode": {
    "name": "ipython",
    "version": 3
   },
   "file_extension": ".py",
   "mimetype": "text/x-python",
   "name": "python",
   "nbconvert_exporter": "python",
   "pygments_lexer": "ipython3",
   "version": "3.10.9"
  }
 },
 "nbformat": 4,
 "nbformat_minor": 5
}
