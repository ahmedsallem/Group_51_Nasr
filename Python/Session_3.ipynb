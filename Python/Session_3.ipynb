{
 "cells": [
  {
   "cell_type": "code",
   "execution_count": 1,
   "id": "17778b51",
   "metadata": {},
   "outputs": [],
   "source": [
    "d = {'k1':[1,2,{'k2':['this is tricky',{'ahmed':[1,2,['hello']]}]}]}"
   ]
  },
  {
   "cell_type": "code",
   "execution_count": 12,
   "id": "07968060",
   "metadata": {},
   "outputs": [],
   "source": [
    "d[\"k1\"][-1][\"k2\"][-1][\"ahmed\"][-1][0] = d[\"k1\"][-1][\"k2\"][-1][\"ahmed\"][-1][0].upper()"
   ]
  },
  {
   "cell_type": "code",
   "execution_count": 14,
   "id": "145df9bf",
   "metadata": {},
   "outputs": [
    {
     "data": {
      "text/plain": [
       "{'k1': [1, 2, {'k2': ['this is tricky', {'ahmed': [1, 2, ['HELLO']]}]}]}"
      ]
     },
     "execution_count": 14,
     "metadata": {},
     "output_type": "execute_result"
    }
   ],
   "source": [
    "d"
   ]
  },
  {
   "cell_type": "code",
   "execution_count": 19,
   "id": "ed8a51a9",
   "metadata": {},
   "outputs": [
    {
     "name": "stdout",
     "output_type": "stream",
     "text": [
      "1\n",
      "2\n",
      "3\n",
      "4\n",
      "5\n"
     ]
    }
   ],
   "source": [
    "lst = [1,2,3,4,5]\n",
    "for i in lst:\n",
    "    print(i)"
   ]
  },
  {
   "cell_type": "code",
   "execution_count": 20,
   "id": "425cb6f5",
   "metadata": {},
   "outputs": [
    {
     "name": "stdout",
     "output_type": "stream",
     "text": [
      "0\n",
      "1\n",
      "2\n",
      "3\n",
      "4\n",
      "5\n",
      "6\n",
      "7\n",
      "8\n",
      "9\n"
     ]
    }
   ],
   "source": [
    "for i in range(10):\n",
    "    print(i)"
   ]
  },
  {
   "cell_type": "code",
   "execution_count": 21,
   "id": "62f51a6b",
   "metadata": {},
   "outputs": [
    {
     "name": "stdout",
     "output_type": "stream",
     "text": [
      "1  odd\n",
      "2  even\n",
      "3  odd\n",
      "4  even\n",
      "5  odd\n",
      "6  even\n",
      "7  odd\n",
      "8  even\n",
      "9  odd\n",
      "10  even\n",
      "11  odd\n",
      "12  even\n",
      "13  odd\n",
      "14  even\n",
      "15  odd\n",
      "16  even\n",
      "17  odd\n",
      "18  even\n",
      "19  odd\n",
      "20  even\n"
     ]
    }
   ],
   "source": [
    "for i in range(1,21):\n",
    "    if i % 2 == 0 :\n",
    "        print(i , \" even\")\n",
    "    else:\n",
    "        print(i , \" odd\")"
   ]
  },
  {
   "cell_type": "code",
   "execution_count": 22,
   "id": "c6beb708",
   "metadata": {},
   "outputs": [
    {
     "name": "stdout",
     "output_type": "stream",
     "text": [
      "[2, 4, 6, 8]\n"
     ]
    }
   ],
   "source": [
    "lst1 = [1,2,3,4]\n",
    "lst2 = []\n",
    "for i in lst1 :\n",
    "    lst2.append( i * 2 )\n",
    "print(lst2)"
   ]
  },
  {
   "cell_type": "code",
   "execution_count": 26,
   "id": "fa1f274c",
   "metadata": {},
   "outputs": [
    {
     "name": "stdout",
     "output_type": "stream",
     "text": [
      "0\n",
      "1\n",
      "2\n",
      "3\n",
      "4\n",
      "5\n",
      "6\n",
      "7\n",
      "8\n",
      "9\n",
      "10\n"
     ]
    }
   ],
   "source": [
    "i = 0 \n",
    "while i <= 10 :\n",
    "    print(i)\n",
    "    i += 1"
   ]
  },
  {
   "cell_type": "code",
   "execution_count": 28,
   "id": "275f28f3",
   "metadata": {},
   "outputs": [
    {
     "name": "stdout",
     "output_type": "stream",
     "text": [
      "1\n",
      "2\n",
      "4\n",
      "5\n",
      "6\n"
     ]
    }
   ],
   "source": [
    "lst = [1,2,3,4,5,6]\n",
    "for i in lst :\n",
    "    if i == 3 :\n",
    "        continue\n",
    "    print(i)"
   ]
  },
  {
   "cell_type": "code",
   "execution_count": 29,
   "id": "38b1dde4",
   "metadata": {},
   "outputs": [
    {
     "name": "stdout",
     "output_type": "stream",
     "text": [
      "1\n",
      "2\n"
     ]
    }
   ],
   "source": [
    "lst = [1,2,3,4,5,6]\n",
    "for i in lst :\n",
    "    if i == 3 :\n",
    "        break\n",
    "    print(i)"
   ]
  },
  {
   "cell_type": "code",
   "execution_count": 30,
   "id": "775a5338",
   "metadata": {},
   "outputs": [
    {
     "name": "stdout",
     "output_type": "stream",
     "text": [
      "1\n",
      "2\n",
      "3\n",
      "4\n",
      "5\n",
      "6\n"
     ]
    }
   ],
   "source": [
    "lst = [1,2,3,4,5,6]\n",
    "for i in lst :\n",
    "    if i == 3 :\n",
    "        pass\n",
    "    print(i)"
   ]
  },
  {
   "cell_type": "code",
   "execution_count": 31,
   "id": "1c32204f",
   "metadata": {},
   "outputs": [
    {
     "name": "stdout",
     "output_type": "stream",
     "text": [
      "enter two words lala land\n",
      "True\n"
     ]
    }
   ],
   "source": [
    "words = input(\"enter two words \")\n",
    "words = words.split()\n",
    "if words[0][0] == words[-1][0]:\n",
    "    print(True)\n",
    "else:\n",
    "    print(False)"
   ]
  },
  {
   "cell_type": "code",
   "execution_count": 35,
   "id": "6f61ea97",
   "metadata": {},
   "outputs": [],
   "source": [
    "def add(n1 , n2 , n3 ):\n",
    "    s = n1 + n2 + n3\n",
    "    return s "
   ]
  },
  {
   "cell_type": "code",
   "execution_count": 36,
   "id": "99206704",
   "metadata": {},
   "outputs": [
    {
     "data": {
      "text/plain": [
       "30"
      ]
     },
     "execution_count": 36,
     "metadata": {},
     "output_type": "execute_result"
    }
   ],
   "source": [
    "add(10 , 10 , 10 )"
   ]
  },
  {
   "cell_type": "code",
   "execution_count": 47,
   "id": "9bf2bb1c",
   "metadata": {},
   "outputs": [],
   "source": [
    "def add_lst( l ):\n",
    "    s = 0 \n",
    "    for i in l : \n",
    "        s = s + i \n",
    "    return s"
   ]
  },
  {
   "cell_type": "code",
   "execution_count": 43,
   "id": "83580cb1",
   "metadata": {},
   "outputs": [
    {
     "data": {
      "text/plain": [
       "36"
      ]
     },
     "execution_count": 43,
     "metadata": {},
     "output_type": "execute_result"
    }
   ],
   "source": [
    "\n",
    "add_lst(1,2,3,4,5,6,7,8)"
   ]
  },
  {
   "cell_type": "code",
   "execution_count": null,
   "id": "214145c9",
   "metadata": {},
   "outputs": [],
   "source": []
  },
  {
   "cell_type": "code",
   "execution_count": 46,
   "id": "d0577d38",
   "metadata": {},
   "outputs": [
    {
     "name": "stdout",
     "output_type": "stream",
     "text": [
      "enter num of values 5\n",
      "enter the number10\n",
      "enter the number20\n",
      "enter the number30\n",
      "enter the number40\n",
      "enter the number50\n",
      "[10.0, 20.0, 30.0, 40.0, 50.0]\n"
     ]
    }
   ],
   "source": [
    "num_input = int( input(\"enter num of values \"))\n",
    "lst = []\n",
    "for i in range(num_input):\n",
    "    lst.append(float(input(\"enter the number\")))\n",
    "print(lst)"
   ]
  },
  {
   "cell_type": "code",
   "execution_count": 48,
   "id": "5aa70245",
   "metadata": {},
   "outputs": [
    {
     "data": {
      "text/plain": [
       "150.0"
      ]
     },
     "execution_count": 48,
     "metadata": {},
     "output_type": "execute_result"
    }
   ],
   "source": [
    "add_lst(lst)"
   ]
  },
  {
   "cell_type": "code",
   "execution_count": 7,
   "id": "60f2421f",
   "metadata": {},
   "outputs": [
    {
     "name": "stdout",
     "output_type": "stream",
     "text": [
      "G\n",
      "L\n",
      "Nonlocal\n",
      "local\n",
      "L\n"
     ]
    }
   ],
   "source": [
    "x = \"G\"\n",
    "def say():\n",
    "    global y \n",
    "    y = \"L\"\n",
    "    print(y)\n",
    "    m = \"local\"\n",
    "    def local_f():\n",
    "#         nonlocal m \n",
    "        m = \"Nonlocal\"\n",
    "        print(m)\n",
    "    local_f()\n",
    "    print(m)\n",
    "print(x)\n",
    "say()\n",
    "print(y)"
   ]
  },
  {
   "cell_type": "code",
   "execution_count": 5,
   "id": "de55da2f",
   "metadata": {},
   "outputs": [
    {
     "name": "stdout",
     "output_type": "stream",
     "text": [
      "G\n",
      "local\n",
      "local_f  local_f\n",
      "non  non\n",
      "non\n",
      "local\n",
      "G\n"
     ]
    }
   ],
   "source": [
    "s = \"G\"\n",
    "def say():\n",
    "\n",
    "    s = \"local\"\n",
    "    print(s)\n",
    "    def local_f():\n",
    "#         nonlocal s\n",
    "        s = \"local_f\"\n",
    "        print(\"local_f \",s)\n",
    "        def non():\n",
    "            nonlocal s\n",
    "            s = \"non\"\n",
    "            print(\"non \",s)\n",
    "        non()\n",
    "        print(s)\n",
    "    local_f()\n",
    "    print(s)\n",
    "print(s)\n",
    "say()\n",
    "print(s)"
   ]
  },
  {
   "cell_type": "code",
   "execution_count": null,
   "id": "265fe10c",
   "metadata": {},
   "outputs": [],
   "source": []
  }
 ],
 "metadata": {
  "kernelspec": {
   "display_name": "Python 3 (ipykernel)",
   "language": "python",
   "name": "python3"
  },
  "language_info": {
   "codemirror_mode": {
    "name": "ipython",
    "version": 3
   },
   "file_extension": ".py",
   "mimetype": "text/x-python",
   "name": "python",
   "nbconvert_exporter": "python",
   "pygments_lexer": "ipython3",
   "version": "3.10.9"
  }
 },
 "nbformat": 4,
 "nbformat_minor": 5
}
