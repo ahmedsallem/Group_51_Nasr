{
 "cells": [
  {
   "cell_type": "code",
   "execution_count": 24,
   "id": "ce6b26e5",
   "metadata": {},
   "outputs": [],
   "source": [
    "class ShoppingCart : \n",
    "    def __init__ (self):\n",
    "        self.items = [] \n",
    "        \n",
    "    def add_items(self , name , quantity) :\n",
    "        self.items.append((name , quantity)) \n",
    "        \n",
    "        print(f\"I added {quantity} {name}s to the shopping cart\")\n",
    "    \n",
    "    def remove_items (self , name ): \n",
    "        for item in self.items: \n",
    "            if item[0] == name: \n",
    "                self.items.remove(item)\n",
    "                \n",
    "        print (f\"I removed {name} from the shoppping cart \")\n",
    "            \n",
    "    def calculate_sum(self):\n",
    "        total = sum (item[1] for item in self.items)\n",
    "        print(f\"total sum of items incart is {total}\")\n",
    "        \n",
    "    def show(self): \n",
    "        for item in self.items:\n",
    "            print (item[0] , item[1])\n",
    "            \n",
    "                \n",
    "        \n",
    "        "
   ]
  },
  {
   "cell_type": "code",
   "execution_count": 25,
   "id": "8b3dda8c",
   "metadata": {},
   "outputs": [
    {
     "data": {
      "text/plain": [
       "<__main__.ShoppingCart at 0x1a7c503c250>"
      ]
     },
     "execution_count": 25,
     "metadata": {},
     "output_type": "execute_result"
    }
   ],
   "source": [
    "cart1 = ShoppingCart()\n",
    "cart1"
   ]
  },
  {
   "cell_type": "code",
   "execution_count": 26,
   "id": "3cc60abd",
   "metadata": {},
   "outputs": [
    {
     "name": "stdout",
     "output_type": "stream",
     "text": [
      "I added 3 bananas to the shopping cart\n"
     ]
    }
   ],
   "source": [
    "cart1.add_items('banana' , 3)"
   ]
  },
  {
   "cell_type": "code",
   "execution_count": 27,
   "id": "db118bf3",
   "metadata": {},
   "outputs": [
    {
     "name": "stdout",
     "output_type": "stream",
     "text": [
      "I added 3 orangess to the shopping cart\n"
     ]
    }
   ],
   "source": [
    "cart1.add_items('oranges' , 3)"
   ]
  },
  {
   "cell_type": "code",
   "execution_count": 28,
   "id": "cc37c9f0",
   "metadata": {},
   "outputs": [
    {
     "name": "stdout",
     "output_type": "stream",
     "text": [
      "I added 1 zeits to the shopping cart\n"
     ]
    }
   ],
   "source": [
    "cart1.add_items('zeit' , 1)"
   ]
  },
  {
   "cell_type": "code",
   "execution_count": 29,
   "id": "ac3a1718",
   "metadata": {},
   "outputs": [
    {
     "name": "stdout",
     "output_type": "stream",
     "text": [
      "banana 3\n",
      "oranges 3\n",
      "zeit 1\n"
     ]
    }
   ],
   "source": [
    "cart1.show()"
   ]
  },
  {
   "cell_type": "code",
   "execution_count": 30,
   "id": "e99bf097",
   "metadata": {},
   "outputs": [
    {
     "name": "stdout",
     "output_type": "stream",
     "text": [
      "I removed oranges from the shoppping cart \n"
     ]
    }
   ],
   "source": [
    "cart1.remove_items('oranges')"
   ]
  },
  {
   "cell_type": "code",
   "execution_count": 31,
   "id": "e7ef6ca1",
   "metadata": {},
   "outputs": [
    {
     "name": "stdout",
     "output_type": "stream",
     "text": [
      "banana 3\n",
      "zeit 1\n"
     ]
    }
   ],
   "source": [
    "cart1.show()"
   ]
  },
  {
   "cell_type": "code",
   "execution_count": 32,
   "id": "758ba0bb",
   "metadata": {},
   "outputs": [
    {
     "name": "stdout",
     "output_type": "stream",
     "text": [
      "total sum of items incart is 4\n"
     ]
    }
   ],
   "source": [
    "cart1.calculate_sum()"
   ]
  },
  {
   "cell_type": "code",
   "execution_count": null,
   "id": "b85cbbc7",
   "metadata": {},
   "outputs": [],
   "source": []
  },
  {
   "cell_type": "code",
   "execution_count": 36,
   "id": "93b55a2c",
   "metadata": {},
   "outputs": [
    {
     "name": "stdout",
     "output_type": "stream",
     "text": [
      "the first 20 fibonacci numbers are: [0, 1, 1, 2, 3, 5, 8, 13, 21, 34, 55, 89, 144, 233, 377, 610, 987, 1597, 2584, 4181]\n",
      "the 20 th fubonacci number is:  4181\n"
     ]
    }
   ],
   "source": [
    "fibo_list = [0,1]\n",
    "\n",
    "def fibonacci(num):\n",
    "    if num < 2:\n",
    "        print('invalid input')\n",
    "        \n",
    "    elif len(fibo_list) == num:\n",
    "        print('the first', num, 'fibonacci numbers are:', fibo_list)\n",
    "        print('the' ,num,'th fubonacci number is: ',fibo_list[num-1])\n",
    "    else:\n",
    "        fibo_list.append(fibo_list[-1] + fibo_list[-2])\n",
    "        fibonacci(num)\n",
    "        \n",
    "fibonacci(20)\n"
   ]
  },
  {
   "cell_type": "code",
   "execution_count": 56,
   "id": "1c8ce269",
   "metadata": {},
   "outputs": [],
   "source": [
    "# num = list(map(int,input(\"enter your list\").split(\",\")))\n",
    "# find = int(input(\"enter your target\"))\n",
    "# def pairs(num,find):\n",
    "#     result = []\n",
    "#     while num:\n",
    "#         for i in num:\n",
    "#             s = num.pop\n",
    "#             i = find - s\n",
    "#             if i in num:\n",
    "#                 result.append((i,s))\n",
    "#         return result        \n",
    "# pairs(num,find)"
   ]
  },
  {
   "cell_type": "code",
   "execution_count": 57,
   "id": "1ceb752c",
   "metadata": {},
   "outputs": [],
   "source": [
    "import numpy as np"
   ]
  },
  {
   "cell_type": "code",
   "execution_count": null,
   "id": "5103d9df",
   "metadata": {},
   "outputs": [],
   "source": [
    "np.linalg.matrix_rank()\n",
    "np.linalg.det()\n",
    "np.linalg.inv()"
   ]
  },
  {
   "cell_type": "code",
   "execution_count": 58,
   "id": "479021db",
   "metadata": {},
   "outputs": [],
   "source": [
    "m = np.array([[1,2,3],[5,4,6],[6,5,8]])"
   ]
  },
  {
   "cell_type": "code",
   "execution_count": 59,
   "id": "ba4d5556",
   "metadata": {},
   "outputs": [
    {
     "data": {
      "text/plain": [
       "array([[1, 2, 3],\n",
       "       [5, 4, 6],\n",
       "       [6, 5, 8]])"
      ]
     },
     "execution_count": 59,
     "metadata": {},
     "output_type": "execute_result"
    }
   ],
   "source": [
    "m"
   ]
  },
  {
   "cell_type": "code",
   "execution_count": 60,
   "id": "1ba2aca8",
   "metadata": {},
   "outputs": [
    {
     "data": {
      "text/plain": [
       "array([[1, 5, 6],\n",
       "       [2, 4, 5],\n",
       "       [3, 6, 8]])"
      ]
     },
     "execution_count": 60,
     "metadata": {},
     "output_type": "execute_result"
    }
   ],
   "source": [
    "m.T"
   ]
  },
  {
   "cell_type": "code",
   "execution_count": 63,
   "id": "cc6743f7",
   "metadata": {},
   "outputs": [
    {
     "data": {
      "text/plain": [
       "13"
      ]
     },
     "execution_count": 63,
     "metadata": {},
     "output_type": "execute_result"
    }
   ],
   "source": [
    "m.trace()"
   ]
  },
  {
   "cell_type": "code",
   "execution_count": 64,
   "id": "1800e7a3",
   "metadata": {},
   "outputs": [],
   "source": [
    "# help(np.trace)"
   ]
  },
  {
   "cell_type": "code",
   "execution_count": 65,
   "id": "abfe3dbd",
   "metadata": {},
   "outputs": [
    {
     "data": {
      "text/plain": [
       "3"
      ]
     },
     "execution_count": 65,
     "metadata": {},
     "output_type": "execute_result"
    }
   ],
   "source": [
    "np.linalg.matrix_rank(m)"
   ]
  },
  {
   "cell_type": "code",
   "execution_count": 66,
   "id": "05cd82f0",
   "metadata": {},
   "outputs": [
    {
     "data": {
      "text/plain": [
       "-2.9999999999999996"
      ]
     },
     "execution_count": 66,
     "metadata": {},
     "output_type": "execute_result"
    }
   ],
   "source": [
    "np.linalg.det(m)"
   ]
  },
  {
   "cell_type": "code",
   "execution_count": 69,
   "id": "b0e000a2",
   "metadata": {},
   "outputs": [
    {
     "data": {
      "text/plain": [
       "array([[-0.66666667,  0.33333333,  0.        ],\n",
       "       [ 1.33333333,  3.33333333, -3.        ],\n",
       "       [-0.33333333, -2.33333333,  2.        ]])"
      ]
     },
     "execution_count": 69,
     "metadata": {},
     "output_type": "execute_result"
    }
   ],
   "source": [
    "m_i = np.linalg.inv(m)\n",
    "m_i"
   ]
  },
  {
   "cell_type": "code",
   "execution_count": 74,
   "id": "922977ba",
   "metadata": {},
   "outputs": [
    {
     "data": {
      "text/plain": [
       "array([[ 1.00000000e+00,  0.00000000e+00,  0.00000000e+00],\n",
       "       [-7.77156117e-16,  1.00000000e+00,  0.00000000e+00],\n",
       "       [-4.44089210e-16,  0.00000000e+00,  1.00000000e+00]])"
      ]
     },
     "execution_count": 74,
     "metadata": {},
     "output_type": "execute_result"
    }
   ],
   "source": [
    "m.dot(m_i)"
   ]
  },
  {
   "cell_type": "code",
   "execution_count": 87,
   "id": "5f42c048",
   "metadata": {},
   "outputs": [],
   "source": [
    "a = np.array([[1,0,0,0,0],[0,0,0,1,0],\n",
    "             [1,0,3,0,0],[0,0,0,1,0]])\n",
    "from scipy.sparse import csr_matrix , csc_matrix"
   ]
  },
  {
   "cell_type": "code",
   "execution_count": 90,
   "id": "860d6f02",
   "metadata": {},
   "outputs": [
    {
     "name": "stdout",
     "output_type": "stream",
     "text": [
      "  (0, 0)\t1\n",
      "  (1, 3)\t1\n",
      "  (2, 0)\t1\n",
      "  (2, 2)\t3\n",
      "  (3, 3)\t1\n"
     ]
    },
    {
     "data": {
      "text/plain": [
       "scipy.sparse._csr.csr_matrix"
      ]
     },
     "execution_count": 90,
     "metadata": {},
     "output_type": "execute_result"
    }
   ],
   "source": [
    "# print(a)\n",
    "s = csr_matrix(a)\n",
    "print(s)\n",
    "s.todense()\n",
    "type(s)"
   ]
  },
  {
   "cell_type": "code",
   "execution_count": 79,
   "id": "525ae3d4",
   "metadata": {},
   "outputs": [],
   "source": [
    "import scipy as sp"
   ]
  },
  {
   "cell_type": "code",
   "execution_count": 82,
   "id": "8471e3c7",
   "metadata": {},
   "outputs": [
    {
     "name": "stdout",
     "output_type": "stream",
     "text": [
      "  (0, 0)\t1\n",
      "  (2, 0)\t1\n",
      "  (2, 2)\t3\n",
      "  (1, 3)\t1\n",
      "  (3, 3)\t1\n",
      "  (1, 4)\t2\n",
      "  (3, 4)\t2\n"
     ]
    }
   ],
   "source": [
    "print(sp.sparse.csc_matrix(a))"
   ]
  },
  {
   "cell_type": "code",
   "execution_count": 94,
   "id": "ed6ec4f6",
   "metadata": {},
   "outputs": [
    {
     "data": {
      "text/plain": [
       "array([[[[2, 2],\n",
       "         [3, 3]],\n",
       "\n",
       "        [[6, 6],\n",
       "         [9, 9]]],\n",
       "\n",
       "\n",
       "       [[[4, 4],\n",
       "         [6, 6]],\n",
       "\n",
       "        [[6, 6],\n",
       "         [9, 9]]]])"
      ]
     },
     "execution_count": 94,
     "metadata": {},
     "output_type": "execute_result"
    }
   ],
   "source": [
    "a = np.array([[1,3],[2,3]])\n",
    "b = np.array([[2,2],[3,3]])\n",
    "np.tensordot(a,b , axes=0)"
   ]
  },
  {
   "cell_type": "code",
   "execution_count": null,
   "id": "217d45c3",
   "metadata": {},
   "outputs": [],
   "source": []
  }
 ],
 "metadata": {
  "kernelspec": {
   "display_name": "Python 3 (ipykernel)",
   "language": "python",
   "name": "python3"
  },
  "language_info": {
   "codemirror_mode": {
    "name": "ipython",
    "version": 3
   },
   "file_extension": ".py",
   "mimetype": "text/x-python",
   "name": "python",
   "nbconvert_exporter": "python",
   "pygments_lexer": "ipython3",
   "version": "3.10.9"
  }
 },
 "nbformat": 4,
 "nbformat_minor": 5
}
