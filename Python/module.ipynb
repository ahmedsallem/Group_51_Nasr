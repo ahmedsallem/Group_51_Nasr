{
 "cells": [
  {
   "cell_type": "code",
   "execution_count": 1,
   "id": "b47ae88c",
   "metadata": {},
   "outputs": [],
   "source": [
    "def add(n1,n2,n3):\n",
    "    return n1+n2+n3"
   ]
  },
  {
   "cell_type": "code",
   "execution_count": 2,
   "id": "c5b24498",
   "metadata": {},
   "outputs": [],
   "source": [
    "def multp(n1,n2,n3):\n",
    "    return n1 * n2 *n3"
   ]
  },
  {
   "cell_type": "code",
   "execution_count": null,
   "id": "7d5e3a54",
   "metadata": {},
   "outputs": [],
   "source": []
  }
 ],
 "metadata": {
  "kernelspec": {
   "display_name": "Python 3 (ipykernel)",
   "language": "python",
   "name": "python3"
  },
  "language_info": {
   "codemirror_mode": {
    "name": "ipython",
    "version": 3
   },
   "file_extension": ".py",
   "mimetype": "text/x-python",
   "name": "python",
   "nbconvert_exporter": "python",
   "pygments_lexer": "ipython3",
   "version": "3.10.9"
  }
 },
 "nbformat": 4,
 "nbformat_minor": 5
}
